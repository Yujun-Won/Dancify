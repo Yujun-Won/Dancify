{
 "cells": [
  {
   "cell_type": "code",
   "execution_count": 1,
   "metadata": {},
   "outputs": [],
   "source": [
    "import json\n",
    "import sys\n",
    "from typing import Any, Dict, List\n",
    "\n",
    "sys.path.append('/Users/yujunwon/Project/dancify/ai/yujun/complete')           # 경로 설정 필요\n",
    "\n",
    "import angle_calc"
   ]
  },
  {
   "attachments": {},
   "cell_type": "markdown",
   "metadata": {},
   "source": [
    "## 1. 데이터 로드"
   ]
  },
  {
   "cell_type": "code",
   "execution_count": 2,
   "metadata": {},
   "outputs": [],
   "source": [
    "def load_keypoints_from_json(file_path: str) -> List[Dict[str, Any]]:\n",
    "    \"\"\"\n",
    "    주어진 파일 경로로부터 JSON 파일을 읽고, 키포인트 정보를 추출하여 리스트로 반환합니다.\n",
    "\n",
    "    Args:\n",
    "        file_path (str): JSON 파일의 경로\n",
    "\n",
    "    Returns:\n",
    "        List[Dict[str, Any]]: 키포인트 정보를 담고 있는 딕셔너리의 리스트\n",
    "    \"\"\"\n",
    "    with open(file_path, 'r') as f:\n",
    "        data = json.load(f)\n",
    "        keypoints = angle_calc.get_keypoints(data)\n",
    "    return keypoints"
   ]
  },
  {
   "attachments": {},
   "cell_type": "markdown",
   "metadata": {},
   "source": [
    "### 고려할 점\n",
    "1. dancer_joint와 danceable_joint 중에서 하나에 맞춰서 비교해야 함 → 하나에 맞춰서 일단 구현\n",
    "2. 프레임 단위로 비교할 때, 앞뒤 5프레임 정도를 평균내서 하는 것은 어떨지에 대해서 생각해보기 → 내일(0615) 시도해보기\n",
    "3. 리스트의 맨 끝에 프레임 번호를 추가할깝쇼... → 내일(0615) 물어보기"
   ]
  },
  {
   "cell_type": "code",
   "execution_count": 3,
   "metadata": {},
   "outputs": [],
   "source": [
    "def calculate_angle_difference(dancer_json_path, danceable_json_path):\n",
    "    dancer = load_keypoints_from_json(dancer_json_path)\n",
    "    danceable = load_keypoints_from_json(danceable_json_path)\n",
    "\n",
    "    dancer_joint = angle_calc.calculate_joint_angles(dancer)\n",
    "    danceable_joint = angle_calc.calculate_joint_angles(danceable)\n",
    "\n",
    "    joint_list = ['left_pelvic_joint', 'right_pelvic_joint', 'left_shoulder_joint', 'right_shoulder_joint',\n",
    "                  'left_elbow_joint', 'right_elbow_joint', 'left_knee_joint', 'right_knee_joint']\n",
    "\n",
    "    diff_list = []\n",
    "\n",
    "    for dancer_joint_item, danceable_joint_item in zip(dancer_joint, danceable_joint):\n",
    "        diff = [abs(dancer_joint_item[joint] - danceable_joint_item[joint]) for joint in joint_list]\n",
    "        diff_list.append(list(diff))\n",
    "\n",
    "    return diff_list"
   ]
  },
  {
   "cell_type": "code",
   "execution_count": 7,
   "metadata": {},
   "outputs": [
    {
     "data": {
      "text/plain": [
       "[[34.691423932402174,\n",
       "  12.573530875042366,\n",
       "  47.88162516359236,\n",
       "  13.578248288536834,\n",
       "  21.697466533750358,\n",
       "  14.275977551941743,\n",
       "  45.77824556516555,\n",
       "  4.724209764125732]]"
      ]
     },
     "execution_count": 7,
     "metadata": {},
     "output_type": "execute_result"
    }
   ],
   "source": [
    "result = calculate_angle_difference(\"../point_sample/chansol.json\", \"../point_sample/heewon.json\")\n",
    "result"
   ]
  }
 ],
 "metadata": {
  "kernelspec": {
   "display_name": "dancify",
   "language": "python",
   "name": "python3"
  },
  "language_info": {
   "codemirror_mode": {
    "name": "ipython",
    "version": 3
   },
   "file_extension": ".py",
   "mimetype": "text/x-python",
   "name": "python",
   "nbconvert_exporter": "python",
   "pygments_lexer": "ipython3",
   "version": "3.10.10"
  },
  "orig_nbformat": 4
 },
 "nbformat": 4,
 "nbformat_minor": 2
}
