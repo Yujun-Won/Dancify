{
 "cells": [
  {
   "cell_type": "code",
   "execution_count": 1,
   "metadata": {},
   "outputs": [],
   "source": [
    "import sys\n",
    "sys.path.append('/Users/yujunwon/Project/dancify/ai/yujun/complete')\n",
    "\n",
    "import angle_calculation"
   ]
  },
  {
   "cell_type": "code",
   "execution_count": 2,
   "metadata": {},
   "outputs": [],
   "source": [
    "# angle_calculation.average_angle_difference(\"../point_sample/danceable.json\", \"../point_sample/dancer.json\")"
   ]
  },
  {
   "attachments": {},
   "cell_type": "markdown",
   "metadata": {},
   "source": [
    "---"
   ]
  },
  {
   "cell_type": "code",
   "execution_count": 3,
   "metadata": {},
   "outputs": [],
   "source": [
    "kps, fps = angle_calculation.load_keypoints_from_json(\"../point_sample/heewon.json\")"
   ]
  },
  {
   "cell_type": "code",
   "execution_count": 4,
   "metadata": {},
   "outputs": [
    {
     "data": {
      "text/plain": [
       "[[[427.4884955087254, 182.10784436156305, 'left_shoulder'],\n",
       "  [354.00804615088583, 189.88467244972514, 'right_shoulder'],\n",
       "  [476.7904280494792, 183.72126482132413, 'left_elbow'],\n",
       "  [310.6017021259135, 207.26402713522435, 'right_elbow'],\n",
       "  [485.53463359036107, 225.42944193520182, 'left_wrist'],\n",
       "  [309.4645691170168, 169.6284822040477, 'right_wrist'],\n",
       "  [412.6742357738002, 290.6946279163935, 'left_hip'],\n",
       "  [366.9840610907826, 290.120887133862, 'right_hip'],\n",
       "  [438.3481010713819, 373.063702729207, 'left_knee'],\n",
       "  [346.6532861423037, 374.41220400969996, 'right_knee'],\n",
       "  [464.534584566135, 445.67504014274107, 'left_ankle'],\n",
       "  [327.39942563710133, 444.54447352585976, 'right_ankle']]]"
      ]
     },
     "execution_count": 4,
     "metadata": {},
     "output_type": "execute_result"
    }
   ],
   "source": [
    "kps"
   ]
  },
  {
   "cell_type": "code",
   "execution_count": 5,
   "metadata": {},
   "outputs": [
    {
     "data": {
      "text/plain": [
       "1"
      ]
     },
     "execution_count": 5,
     "metadata": {},
     "output_type": "execute_result"
    }
   ],
   "source": [
    "fps"
   ]
  },
  {
   "attachments": {},
   "cell_type": "markdown",
   "metadata": {},
   "source": [
    "---"
   ]
  },
  {
   "cell_type": "code",
   "execution_count": 6,
   "metadata": {},
   "outputs": [
    {
     "data": {
      "text/plain": [
       "[{'left_pelvic_joint': 154.91933113645763,\n",
       "  'right_pelvic_joint': 159.06329419539725,\n",
       "  'left_shoulder_joint': 95.89442455048946,\n",
       "  'right_shoulder_joint': 75.55562323118644,\n",
       "  'left_elbow_joint': 103.71503726528822,\n",
       "  'right_elbow_joint': 69.91008403874665,\n",
       "  'left_knee_joint': 177.48060815471644,\n",
       "  'right_knee_joint': 178.2089858495864,\n",
       "  'frame_no': 0}]"
      ]
     },
     "execution_count": 6,
     "metadata": {},
     "output_type": "execute_result"
    }
   ],
   "source": [
    "joint_angle = angle_calculation.calculate_joint_angles(kps)\n",
    "joint_angle"
   ]
  },
  {
   "attachments": {},
   "cell_type": "markdown",
   "metadata": {},
   "source": [
    "---"
   ]
  },
  {
   "cell_type": "code",
   "execution_count": 8,
   "metadata": {},
   "outputs": [
    {
     "data": {
      "text/plain": [
       "[21.120400669123114,\n",
       " 7.0287010190990316,\n",
       " 0.0,\n",
       " 0.0,\n",
       " 0.0,\n",
       " 0.0,\n",
       " 44.61268220445521,\n",
       " 81.58030291932164]"
      ]
     },
     "execution_count": 8,
     "metadata": {},
     "output_type": "execute_result"
    }
   ],
   "source": [
    "result3 = angle_calculation.average_angle_difference(\"../point_sample/danceable.json\", \"../point_sample/heewon.json\")\n",
    "result3"
   ]
  }
 ],
 "metadata": {
  "kernelspec": {
   "display_name": "dancify",
   "language": "python",
   "name": "python3"
  },
  "language_info": {
   "codemirror_mode": {
    "name": "ipython",
    "version": 3
   },
   "file_extension": ".py",
   "mimetype": "text/x-python",
   "name": "python",
   "nbconvert_exporter": "python",
   "pygments_lexer": "ipython3",
   "version": "3.10.10"
  },
  "orig_nbformat": 4
 },
 "nbformat": 4,
 "nbformat_minor": 2
}
