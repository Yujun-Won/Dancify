{
 "cells": [
  {
   "cell_type": "code",
   "execution_count": 18,
   "metadata": {},
   "outputs": [
    {
     "name": "stdout",
     "output_type": "stream",
     "text": [
      "3300\n"
     ]
    }
   ],
   "source": [
    "import os\n",
    "import json\n",
    "\n",
    "songname = 'gg-gee'\n",
    "\n",
    "# JSON 파일이 있는 디렉토리 경로\n",
    "directory = f'./data/{songname}/label/'\n",
    "\n",
    "# 디렉토리 내의 모든 파일 이름을 불러옵니다.\n",
    "file_names = [file for file in os.listdir(directory)]\n",
    "\n",
    "print(len(file_names))"
   ]
  },
  {
   "cell_type": "code",
   "execution_count": 16,
   "metadata": {},
   "outputs": [],
   "source": [
    "movenet_json = []\n",
    "idx=0\n",
    "for filename in file_names:\n",
    "    idx+=1\n",
    "\n",
    "    # JSON 파일 경로\n",
    "    file_path = f\"./data/{songname}/label/{filename}\"\n",
    "\n",
    "    # JSON 파일을 읽어옵니다.\n",
    "    with open(file_path, \"r\") as file:\n",
    "        data = json.load(file)\n",
    "\n",
    "    #movenet_lst\n",
    "    movenet_lst = [\"nose\", \"left_eye\", \"right_eye\", \"left_ear\", \"right_ear\", \"left_shoulder\", \"right_shoulder\", \"left_elbow\",\n",
    "                    \"right_elbow\", \"left_wrist\", \"right_wrist\", \"left_hip\", \"right_hip\", \"left_knee\",\"right_knee\", \"left_ankle\", \"right_ankle\"]\n",
    "\n",
    "    #point 별 (x,y,values)\n",
    "    keypoint = data[\"annotations\"][0][\"keypoints\"]\n",
    "\n",
    "    #posenet result에 맞게 결과 변형\n",
    "    pose=dict({\"keypoints\":[]})\n",
    "    n=0\n",
    "    for i in [24,25,26,27,28,14,19,15,20,16,21,1,6,2,7,3,8]: #notion 참고\n",
    "        part = movenet_lst[n]\n",
    "        x, y, visible = keypoint[i*3:i*3+3]\n",
    "        score = 0 if visible==0 else 100\n",
    "        pose[\"keypoints\"].append({\"y\":y, \"x\":x, \"score\":score, \"name\":part })\n",
    "        n+=1\n",
    "    pose[\"score\"]=100\n",
    "    movenet_json.append([pose])"
   ]
  },
  {
   "cell_type": "code",
   "execution_count": 17,
   "metadata": {},
   "outputs": [],
   "source": [
    "file_path = f'./result/{songname}.json'\n",
    "with open(file_path, 'w') as file:\n",
    "    json.dump(movenet_json, file, indent=4)"
   ]
  }
 ],
 "metadata": {
  "kernelspec": {
   "display_name": ".venv",
   "language": "python",
   "name": "python3"
  },
  "language_info": {
   "codemirror_mode": {
    "name": "ipython",
    "version": 3
   },
   "file_extension": ".py",
   "mimetype": "text/x-python",
   "name": "python",
   "nbconvert_exporter": "python",
   "pygments_lexer": "ipython3",
   "version": "3.9.13"
  },
  "orig_nbformat": 4
 },
 "nbformat": 4,
 "nbformat_minor": 2
}
