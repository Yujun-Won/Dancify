{
 "cells": [
  {
   "cell_type": "code",
   "execution_count": 1,
   "metadata": {},
   "outputs": [],
   "source": [
    "import sys\n",
    "\n",
    "sys.path.append('/Users/yujunwon/Project/dancify/ai/yujun/complete')           # 경로 설정 필요\n",
    "\n",
    "import angle_calculation"
   ]
  },
  {
   "attachments": {},
   "cell_type": "markdown",
   "metadata": {},
   "source": [
    "---"
   ]
  },
  {
   "attachments": {},
   "cell_type": "markdown",
   "metadata": {},
   "source": [
    "### 고려할 점\n",
    "1. dancer_joint와 danceable_joint 중에서 하나에 맞춰서 비교해야 함 → 하나에 맞춰서 일단 구현\n",
    "2. 프레임 단위로 비교할 때, 앞뒤 5프레임 정도를 평균내서 하는 것은 어떨지에 대해서 생각해보기 → 내일(0615) 시도해보기\n",
    "3. 리스트의 맨 끝에 프레임 번호를 추가할깝쇼... → 내일(0615) 물어보기"
   ]
  },
  {
   "cell_type": "code",
   "execution_count": 2,
   "metadata": {},
   "outputs": [
    {
     "data": {
      "text/plain": [
       "[[21.120400669123114,\n",
       "  7.0287010190990316,\n",
       "  0.0,\n",
       "  0.0,\n",
       "  0.0,\n",
       "  0.0,\n",
       "  44.61268220445521,\n",
       "  81.58030291932164],\n",
       " [0.0, 0.0, 0.0, 0.0, 0.0, 0.0, 0.0, 0.0]]"
      ]
     },
     "execution_count": 2,
     "metadata": {},
     "output_type": "execute_result"
    }
   ],
   "source": [
    "result = angle_calculation.calculate_angle_difference(\"../point_sample/dancer.json\", \"../point_sample/danceable.json\")\n",
    "result"
   ]
  },
  {
   "cell_type": "code",
   "execution_count": 5,
   "metadata": {},
   "outputs": [
    {
     "data": {
      "text/plain": [
       "[[34.691423932402174,\n",
       "  12.573530875042366,\n",
       "  47.88162516359236,\n",
       "  13.578248288536834,\n",
       "  21.697466533750358,\n",
       "  14.275977551941743,\n",
       "  45.77824556516555,\n",
       "  4.724209764125732]]"
      ]
     },
     "execution_count": 5,
     "metadata": {},
     "output_type": "execute_result"
    }
   ],
   "source": [
    "angle_calculation.calculate_angle_difference(\"../point_sample/dancer.json\", \"../point_sample/chansol.json\")"
   ]
  },
  {
   "attachments": {},
   "cell_type": "markdown",
   "metadata": {},
   "source": [
    "---"
   ]
  },
  {
   "attachments": {},
   "cell_type": "markdown",
   "metadata": {},
   "source": [
    "### 3. `angle_calculation.py`의 `compute_vector_angle` 함수의 boundary condition 검증"
   ]
  },
  {
   "cell_type": "code",
   "execution_count": 4,
   "metadata": {},
   "outputs": [
    {
     "name": "stdout",
     "output_type": "stream",
     "text": [
      "3.141592653589793\n",
      "180.0\n"
     ]
    }
   ],
   "source": [
    "import numpy as np\n",
    "\n",
    "L1 = np.array([1,1]) - np.array([2,1])\n",
    "L2 = np.array([1,1]) - np.array([0,1])\n",
    "\n",
    "# 벡터 크기\n",
    "magnitude1 = np.linalg.norm(L1)\n",
    "magnitude2 = np.linalg.norm(L2)\n",
    "\n",
    "# 각도를 radian과 degree로 계산\n",
    "angle_rad = np.arccos(np.dot(L1, L2) / (magnitude1 * magnitude2))\n",
    "angle_deg = np.degrees(angle_rad)\n",
    "\n",
    "print(angle_rad)\n",
    "print(angle_deg)"
   ]
  }
 ],
 "metadata": {
  "kernelspec": {
   "display_name": "dancify",
   "language": "python",
   "name": "python3"
  },
  "language_info": {
   "codemirror_mode": {
    "name": "ipython",
    "version": 3
   },
   "file_extension": ".py",
   "mimetype": "text/x-python",
   "name": "python",
   "nbconvert_exporter": "python",
   "pygments_lexer": "ipython3",
   "version": "3.10.10"
  },
  "orig_nbformat": 4
 },
 "nbformat": 4,
 "nbformat_minor": 2
}
