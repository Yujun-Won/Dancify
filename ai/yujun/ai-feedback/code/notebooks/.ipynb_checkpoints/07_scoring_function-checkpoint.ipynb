{
 "cells": [
  {
   "cell_type": "code",
   "execution_count": 1,
   "metadata": {},
   "outputs": [],
   "source": [
    "import sys\n",
    "sys.path.append('/Users/yujunwon/Project/dancify/ai/yujun/complete')\n",
    "\n",
    "import angle_calculation"
   ]
  },
  {
   "cell_type": "markdown",
   "metadata": {},
   "source": [
    "---"
   ]
  },
  {
   "cell_type": "code",
   "execution_count": 2,
   "metadata": {},
   "outputs": [],
   "source": [
    "data = angle_calculation.calculate_score(\"../point_sample/sample_1.json\", \"../point_sample/sample_2.json\")"
   ]
  },
  {
   "cell_type": "code",
   "execution_count": 3,
   "metadata": {},
   "outputs": [
    {
     "data": {
      "text/plain": [
       "[{'sec': 1, 'forearm': 79, 'leg': 96, 'upperarm': 97, 'pelvis': 98},\n",
       " {'sec': 2, 'forearm': 79, 'leg': 96, 'upperarm': 97, 'pelvis': 97},\n",
       " {'sec': 3, 'forearm': 78, 'leg': 94, 'upperarm': 97, 'pelvis': 94},\n",
       " {'sec': 4, 'forearm': 81, 'leg': 96, 'upperarm': 94, 'pelvis': 96},\n",
       " {'sec': 5, 'forearm': 82, 'leg': 95, 'upperarm': 85, 'pelvis': 97},\n",
       " {'sec': 6, 'forearm': 74, 'leg': 96, 'upperarm': 92, 'pelvis': 97},\n",
       " {'sec': 7, 'forearm': 75, 'leg': 91, 'upperarm': 93, 'pelvis': 92},\n",
       " {'sec': 8, 'forearm': 66, 'leg': 93, 'upperarm': 95, 'pelvis': 95},\n",
       " {'sec': 9, 'forearm': 93, 'leg': 97, 'upperarm': 91, 'pelvis': 98},\n",
       " {'sec': 10, 'forearm': 87, 'leg': 98, 'upperarm': 91, 'pelvis': 99},\n",
       " {'sec': 11, 'forearm': 70, 'leg': 98, 'upperarm': 83, 'pelvis': 98},\n",
       " {'sec': 12, 'forearm': 87, 'leg': 98, 'upperarm': 93, 'pelvis': 98},\n",
       " {'sec': 13, 'forearm': 86, 'leg': 98, 'upperarm': 95, 'pelvis': 98},\n",
       " {'sec': 14, 'forearm': 67, 'leg': 96, 'upperarm': 77, 'pelvis': 98},\n",
       " {'sec': 15, 'forearm': 84, 'leg': 98, 'upperarm': 90, 'pelvis': 99},\n",
       " {'sec': 16, 'forearm': 77, 'leg': 98, 'upperarm': 90, 'pelvis': 98},\n",
       " {'sec': 17, 'forearm': 75, 'leg': 98, 'upperarm': 86, 'pelvis': 98},\n",
       " {'sec': 18, 'forearm': 85, 'leg': 97, 'upperarm': 96, 'pelvis': 98},\n",
       " {'sec': 19, 'forearm': 75, 'leg': 96, 'upperarm': 89, 'pelvis': 98},\n",
       " {'sec': 20, 'forearm': 67, 'leg': 95, 'upperarm': 70, 'pelvis': 97},\n",
       " {'sec': 21, 'forearm': 81, 'leg': 98, 'upperarm': 87, 'pelvis': 98},\n",
       " {'sec': 22, 'forearm': 82, 'leg': 98, 'upperarm': 95, 'pelvis': 98},\n",
       " {'sec': 23, 'forearm': 92, 'leg': 97, 'upperarm': 98, 'pelvis': 98},\n",
       " {'sec': 24, 'forearm': 72, 'leg': 94, 'upperarm': 95, 'pelvis': 94},\n",
       " {'sec': 25, 'forearm': 83, 'leg': 96, 'upperarm': 93, 'pelvis': 98},\n",
       " {'sec': 26, 'forearm': 87, 'leg': 96, 'upperarm': 97, 'pelvis': 97},\n",
       " {'sec': 27, 'forearm': 79, 'leg': 96, 'upperarm': 86, 'pelvis': 98},\n",
       " {'sec': 28, 'forearm': 63, 'leg': 96, 'upperarm': 73, 'pelvis': 97},\n",
       " {'sec': 29, 'forearm': 86, 'leg': 97, 'upperarm': 86, 'pelvis': 97},\n",
       " {'sec': 30, 'forearm': 84, 'leg': 92, 'upperarm': 98, 'pelvis': 96},\n",
       " {'sec': 31, 'forearm': 86, 'leg': 98, 'upperarm': 98, 'pelvis': 98},\n",
       " {'sec': 32, 'forearm': 95, 'leg': 95, 'upperarm': 99, 'pelvis': 97},\n",
       " {'sec': 33, 'forearm': 89, 'leg': 98, 'upperarm': 97, 'pelvis': 98},\n",
       " {'sec': 34, 'forearm': 72, 'leg': 97, 'upperarm': 90, 'pelvis': 98},\n",
       " {'sec': 35, 'forearm': 79, 'leg': 99, 'upperarm': 90, 'pelvis': 98}]"
      ]
     },
     "execution_count": 3,
     "metadata": {},
     "output_type": "execute_result"
    }
   ],
   "source": [
    "data"
   ]
  },
  {
   "cell_type": "markdown",
   "metadata": {},
   "source": [
    "---"
   ]
  },
  {
   "cell_type": "code",
   "execution_count": 4,
   "metadata": {},
   "outputs": [
    {
     "name": "stdout",
     "output_type": "stream",
     "text": [
      "1 ~ 3초, forearm: Good\n",
      "1 ~ 4초, upperarm: Bad\n",
      "4 ~ 5초, forearm: Great\n",
      "5 ~ 5초, upperarm: Great\n",
      "6 ~ 7초, forearm: Good\n",
      "8 ~ 9초, forearm: Bad\n",
      "10 ~ 10초, forearm: Great\n",
      "6 ~ 10초, upperarm: Bad\n",
      "11 ~ 11초, forearm: Good\n",
      "11 ~ 11초, upperarm: Great\n",
      "12 ~ 13초, forearm: Great\n",
      "12 ~ 13초, upperarm: Bad\n",
      "14 ~ 14초, forearm: Bad\n",
      "14 ~ 14초, upperarm: Good\n",
      "15 ~ 15초, forearm: Great\n",
      "15 ~ 16초, upperarm: Bad\n",
      "16 ~ 17초, forearm: Good\n",
      "17 ~ 17초, upperarm: Great\n",
      "18 ~ 18초, forearm: Great\n",
      "18 ~ 18초, upperarm: Bad\n",
      "19 ~ 19초, forearm: Good\n",
      "19 ~ 19초, upperarm: Great\n",
      "20 ~ 20초, forearm: Bad\n",
      "20 ~ 20초, upperarm: Good\n",
      "21 ~ 21초, upperarm: Great\n",
      "21 ~ 22초, forearm: Great\n",
      "23 ~ 23초, forearm: Bad\n",
      "24 ~ 24초, forearm: Good\n",
      "25 ~ 26초, forearm: Great\n",
      "22 ~ 26초, upperarm: Bad\n",
      "27 ~ 27초, forearm: Good\n",
      "27 ~ 27초, upperarm: Great\n",
      "28 ~ 28초, forearm: Bad\n",
      "28 ~ 28초, upperarm: Good\n",
      "29 ~ 29초, upperarm: Great\n",
      "29 ~ 31초, forearm: Great\n",
      "32 ~ 32초, forearm: Bad\n",
      "33 ~ 33초, forearm: Great\n",
      "34 ~ 35초: forearm: Good\n",
      "1 ~ 35초: leg: Bad\n",
      "30 ~ 35초: upperarm: Bad\n",
      "1 ~ 35초: pelvis: Bad\n"
     ]
    }
   ],
   "source": [
    "# 성능 점수에 따른 피드백 분류 함수\n",
    "def classify_performance(score):\n",
    "    if 80 <= score < 90:\n",
    "        return 'Great'\n",
    "    elif 70 <= score < 80:\n",
    "        return 'Good'\n",
    "    else:\n",
    "        return 'Bad'\n",
    "\n",
    "# 각 부위별로 이전 피드백 저장\n",
    "prev_feedback = {'forearm': '', 'leg': '', 'upperarm': '', 'pelvis': ''}\n",
    "\n",
    "# 각 부위별로 시작 시간 저장\n",
    "start_sec = {'forearm': 0, 'leg': 0, 'upperarm': 0, 'pelvis': 0}\n",
    "\n",
    "# 각 초에 대한 피드백 생성\n",
    "for item in data:\n",
    "    for key, value in item.items():\n",
    "        if key != 'sec':\n",
    "            feedback = classify_performance(value)\n",
    "            \n",
    "            # 이전 피드백과 비교\n",
    "            if prev_feedback[key] != feedback:\n",
    "                if prev_feedback[key] != '':\n",
    "                    print(f\"{start_sec[key]} ~ {item['sec']-1}초, {key}: {prev_feedback[key]}\")\n",
    "                start_sec[key] = item['sec']\n",
    "                prev_feedback[key] = feedback\n",
    "\n",
    "# 마지막 피드백 출력\n",
    "for key in prev_feedback:\n",
    "    print(f\"{start_sec[key]} ~ {data[-1]['sec']}초: {key}: {prev_feedback[key]}\")\n"
   ]
  }
 ],
 "metadata": {
  "kernelspec": {
   "display_name": "DataAnalysis",
   "language": "python",
   "name": "data"
  },
  "language_info": {
   "codemirror_mode": {
    "name": "ipython",
    "version": 3
   },
   "file_extension": ".py",
   "mimetype": "text/x-python",
   "name": "python",
   "nbconvert_exporter": "python",
   "pygments_lexer": "ipython3",
   "version": "3.9.7"
  }
 },
 "nbformat": 4,
 "nbformat_minor": 2
}
