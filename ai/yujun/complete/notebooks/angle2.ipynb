{
 "cells": [
  {
   "attachments": {},
   "cell_type": "markdown",
   "metadata": {},
   "source": [
    "## 1. 준비"
   ]
  },
  {
   "cell_type": "code",
   "execution_count": 1,
   "metadata": {},
   "outputs": [],
   "source": [
    "import numpy as np\n",
    "import matplotlib.pyplot as plt\n",
    "import json\n",
    "import sys\n",
    "\n",
    "# 코드를 돌려보시려면 아래에 complete의 경로를 써야 합니다.\n",
    "sys.path.append('/Users/yujunwon/Project/dancify/ai/yujun/complete/')\n",
    "\n",
    "import angle_calc\n",
    "\n",
    "%config InlineBackend.figure_format = 'retina'"
   ]
  },
  {
   "cell_type": "code",
   "execution_count": 2,
   "metadata": {},
   "outputs": [],
   "source": [
    "with open(\"../point_sample/sample.json\", 'r') as f:\n",
    "    json_data = json.load(f)"
   ]
  },
  {
   "attachments": {},
   "cell_type": "markdown",
   "metadata": {},
   "source": [
    "## 2. 관절 설정"
   ]
  },
  {
   "cell_type": "code",
   "execution_count": 3,
   "metadata": {},
   "outputs": [],
   "source": [
    "keypoints = angle_calc.get_keypoints(json_data)"
   ]
  },
  {
   "attachments": {},
   "cell_type": "markdown",
   "metadata": {},
   "source": [
    "### 2.1 골격 변수 10개\n",
    "|변수명|부위|연결|\n",
    "|:--:|:--:|:--:|\n",
    "|`left_upperarm`|왼쪽 상완|`left_shoulder` - `left_elbow`|\n",
    "|`right_upperarm`|오른쪽 상완|`right_shoulder` - `right_elbow`|\n",
    "|`left_forearm`|왼쪽 전완|`left_elbow` - `left_wrist`|\n",
    "|`right_forearm`|오른쪽 전완|`right_elbow` - `right_wrist`|\n",
    "|`left_waist`|왼쪽 허리|`left_shoulder` - `left_hip`|\n",
    "|`right_waist`|오른쪽 허리|`right_shoulder` - `right_hip`|\n",
    "|`left_thigh`|왼쪽 허벅지|`left_hip` - `left_knee`|\n",
    "|`right_thigh`|오른쪽 허벅지|`right_hip` - `right_knee`|\n",
    "|`left_calf`|왼쪽 종아리|`left_knee` - `left_ankle`|\n",
    "|`right_calf`|오른쪽 종아리|`right_knee` - `right_ankle`|"
   ]
  },
  {
   "cell_type": "code",
   "execution_count": 4,
   "metadata": {},
   "outputs": [
    {
     "data": {
      "text/plain": [
       "[{'left_upperarm': 0.032713623682532396,\n",
       "  'right_upperarm': 2.760752326634323,\n",
       "  'left_forearm': 1.3641373931644307,\n",
       "  'right_forearm': -1.6010014737775342,\n",
       "  'left_waist': 1.7063870663938567,\n",
       "  'right_waist': 1.4420579328538028,\n",
       "  'left_thigh': 1.268646816122618,\n",
       "  'right_thigh': 1.807472383665529,\n",
       "  'left_calf': 1.224675133274521,\n",
       "  'right_calf': 1.838731477540052,\n",
       "  'frame_no': 0},\n",
       " {'left_upperarm': 0.8968222808258811,\n",
       "  'right_upperarm': 2.454270505559012,\n",
       "  'left_forearm': 2.606938280663005,\n",
       "  'right_forearm': 0.2836761865690997,\n",
       "  'left_waist': 1.7348037132267504,\n",
       "  'right_waist': 1.3725612510667449,\n",
       "  'left_thigh': 0.6915838931299346,\n",
       "  'right_thigh': 1.518526189507818,\n",
       "  'left_calf': 1.5345366868766595,\n",
       "  'right_calf': 1.6322382983212034,\n",
       "  'frame_no': 1}]"
      ]
     },
     "execution_count": 4,
     "metadata": {},
     "output_type": "execute_result"
    }
   ],
   "source": [
    "angle_calc.calculate_skeleton_angles(keypoints)"
   ]
  },
  {
   "attachments": {},
   "cell_type": "markdown",
   "metadata": {},
   "source": [
    "### 2.2 각도 변수 8개\n",
    "|변수명|관절명|연결골격|골격변수|\n",
    "|:--:|:--:|:--:|:--:|\n",
    "|`left_pelvic_joint`|왼쪽 골반 관절|왼쪽 허리 - 왼쪽 허벅지|`left_waist` - `left_thigh`|\n",
    "|`right_pelvic_joint`|오른쪽 골반 관절|오른쪽 허리 - 오른쪽 허벅지|`right_waist` - `right_thigh`|\n",
    "|`left_shoulder_joint`|왼쪽 어깨 관절|왼쪽 상완 - 왼쪽 허리|`left_upperarm` - `left_waist`|\n",
    "|`right_shoulder_joint`|오른쪽 어깨 관절|오른쪽 상완 - 오른쪽 허리|`right_upperarm` - `right_waist`|\n",
    "|`left_elbow_joint`|왼쪽 팔꿈치 관절|외쪽 상완 - 왼쪽 전완|`left_upperarm` - `left_forearm`|\n",
    "|`right_elbow_joint`|오른쪽 팔꿈치 관절|오른쪽 상완 - 오른쪽 전완|`right_upperarm` - `right_forearm`|\n",
    "|`left_knee_joint`|왼쪽 무릎 관절|왼쪽 허벅지 - 왼쪽 종아리|`left_thigh` - `left_calf`|\n",
    "|`right_knee_joint`|오른쪽 무릎 관절|오른쪽 허벅지 - 오른쪽 종아리|`right_thigh` - `right_calf`|"
   ]
  },
  {
   "cell_type": "code",
   "execution_count": 5,
   "metadata": {},
   "outputs": [
    {
     "data": {
      "text/plain": [
       "[{'left_pelvic_joint': 25.080668863542364,\n",
       "  'right_pelvic_joint': 20.936705804602738,\n",
       "  'left_shoulder_joint': 95.89442455048945,\n",
       "  'right_shoulder_joint': 75.55562323118643,\n",
       "  'left_elbow_joint': 76.28496273471178,\n",
       "  'right_elbow_joint': 249.91008403874665,\n",
       "  'left_knee_joint': 2.5193918452837587,\n",
       "  'right_knee_joint': 1.7910141504134103,\n",
       "  'frame_no': 0},\n",
       " {'left_pelvic_joint': 59.77209279594457,\n",
       "  'right_pelvic_joint': 8.363174929560357,\n",
       "  'left_shoulder_joint': 48.01279938689711,\n",
       "  'right_shoulder_joint': 61.977374942649604,\n",
       "  'left_elbow_joint': 97.98242926846218,\n",
       "  'right_elbow_joint': 124.36589351319512,\n",
       "  'left_knee_joint': 48.297637410449106,\n",
       "  'right_knee_joint': 6.515223914539358,\n",
       "  'frame_no': 1}]"
      ]
     },
     "execution_count": 5,
     "metadata": {},
     "output_type": "execute_result"
    }
   ],
   "source": [
    "angle_calc.calculate_joint_angles(keypoints)"
   ]
  }
 ],
 "metadata": {
  "kernelspec": {
   "display_name": "dancify",
   "language": "python",
   "name": "python3"
  },
  "language_info": {
   "codemirror_mode": {
    "name": "ipython",
    "version": 3
   },
   "file_extension": ".py",
   "mimetype": "text/x-python",
   "name": "python",
   "nbconvert_exporter": "python",
   "pygments_lexer": "ipython3",
   "version": "3.10.10"
  },
  "orig_nbformat": 4
 },
 "nbformat": 4,
 "nbformat_minor": 2
}
