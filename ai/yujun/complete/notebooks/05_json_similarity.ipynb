{
 "cells": [
  {
   "cell_type": "code",
   "execution_count": 1,
   "metadata": {},
   "outputs": [],
   "source": [
    "import sys\n",
    "\n",
    "sys.path.append('/Users/yujunwon/Project/dancify/ai/yujun/complete')           # 경로 설정 필요\n",
    "\n",
    "import angle_calculation"
   ]
  },
  {
   "attachments": {},
   "cell_type": "markdown",
   "metadata": {},
   "source": [
    "---"
   ]
  },
  {
   "attachments": {},
   "cell_type": "markdown",
   "metadata": {},
   "source": [
    "### 고려할 점\n",
    "1. dancer_joint와 danceable_joint 중에서 하나에 맞춰서 비교해야 함 → 둘 중에서 짧은 것에 맞춰서 일단 구현\n",
    "2. 프레임 단위로 비교할 때, 앞뒤 5프레임 정도를 평균내서 하는 것은 어떨지에 대해서 생각해보기 → 폐기"
   ]
  },
  {
   "cell_type": "code",
   "execution_count": 11,
   "metadata": {},
   "outputs": [],
   "source": [
    "result = angle_calculation.calculate_angle_difference(\"../point_sample/dancer.json\", \"../point_sample/danceable.json\")"
   ]
  },
  {
   "cell_type": "code",
   "execution_count": 10,
   "metadata": {},
   "outputs": [
    {
     "data": {
      "text/plain": [
       "601"
      ]
     },
     "execution_count": 10,
     "metadata": {},
     "output_type": "execute_result"
    }
   ],
   "source": [
    "len(angle_calculation.calculate_angle_difference(\"../point_sample/test_data.json\", \"../point_sample/test_data_2.json\"))\n",
    "\n",
    "# test_data.json과 test_data_2.json은 각각 602, 601의 길이를 갖는다.\n",
    "# 현재 구현된 함수에서는 의도적으로 프레임 수가 동일하지 않은 경우에서도 동작하도록 구현했다."
   ]
  },
  {
   "attachments": {},
   "cell_type": "markdown",
   "metadata": {},
   "source": [
    "- 현재 `calculate_angle_difference()`는 두 JSON 중에서 짧은 것에 대응되도록 구현함"
   ]
  },
  {
   "attachments": {},
   "cell_type": "markdown",
   "metadata": {},
   "source": [
    "---"
   ]
  },
  {
   "attachments": {},
   "cell_type": "markdown",
   "metadata": {},
   "source": [
    "### 3. `angle_calculation.py`의 `compute_vector_angle` 함수의 boundary condition 검증"
   ]
  },
  {
   "cell_type": "code",
   "execution_count": 4,
   "metadata": {},
   "outputs": [
    {
     "name": "stdout",
     "output_type": "stream",
     "text": [
      "3.141592653589793\n",
      "180.0\n"
     ]
    }
   ],
   "source": [
    "import numpy as np\n",
    "\n",
    "L1 = np.array([1,1]) - np.array([2,1])\n",
    "L2 = np.array([1,1]) - np.array([0,1])\n",
    "\n",
    "# 벡터 크기\n",
    "magnitude1 = np.linalg.norm(L1)\n",
    "magnitude2 = np.linalg.norm(L2)\n",
    "\n",
    "# 각도를 radian과 degree로 계산\n",
    "angle_rad = np.arccos(np.dot(L1, L2) / (magnitude1 * magnitude2))\n",
    "angle_deg = np.degrees(angle_rad)\n",
    "\n",
    "print(angle_rad)\n",
    "print(angle_deg)"
   ]
  },
  {
   "cell_type": "code",
   "execution_count": null,
   "metadata": {},
   "outputs": [],
   "source": [
    "def calculate_angle_difference(dancer_json_path: str, danceable_json_path: str) -> List[List[float]]:\n",
    "    \"\"\"\n",
    "    두 개의 JSON 파일로부터 키포인트 정보를 로드하여 관절 각도 차이를 계산합니다.\n",
    "\n",
    "    Args:\n",
    "        dancer_json_path (str): 춤추는 사람의 JSON 파일 경로\n",
    "        danceable_json_path (str): 춤을 추는 사람의 JSON 파일 경로\n",
    "\n",
    "    Returns:\n",
    "        List[List[float]]: 관절 각도의 차이를 담고 있는 리스트\n",
    "\n",
    "    Raises:\n",
    "        FileNotFoundError: 입력된 파일 경로가 존재하지 않을 때\n",
    "        json.JSONDecodeError: JSON 파일의 구조나 내용이 예상과 다를 때\n",
    "    \"\"\"\n",
    "    try:\n",
    "        dancer = load_keypoints_from_json(dancer_json_path)\n",
    "        danceable = load_keypoints_from_json(danceable_json_path)\n",
    "    except (FileNotFoundError, json.JSONDecodeError) as e:\n",
    "        print(f\"Error occurred while loading keypoints: {e}\")\n",
    "        raise\n",
    "\n",
    "    try:\n",
    "        dancer_joint = calculate_joint_angles(dancer)\n",
    "        danceable_joint = calculate_joint_angles(danceable)\n",
    "    except Exception as e:\n",
    "        print(f\"Error occurred while calculating joint angles: {e}\")\n",
    "        raise\n",
    "\n",
    "    joint_list = ['left_pelvic_joint', 'right_pelvic_joint', 'left_shoulder_joint', 'right_shoulder_joint',\n",
    "                  'left_elbow_joint', 'right_elbow_joint', 'left_knee_joint', 'right_knee_joint']\n",
    "\n",
    "    diff_list = []\n",
    "\n",
    "    for dancer_joint_item, danceable_joint_item in zip(dancer_joint, danceable_joint):\n",
    "        diff = [abs(dancer_joint_item[joint] - danceable_joint_item[joint])\n",
    "                for joint in joint_list]\n",
    "        diff_list.append(list(diff))\n",
    "\n",
    "    return diff_list"
   ]
  }
 ],
 "metadata": {
  "kernelspec": {
   "display_name": "dancify",
   "language": "python",
   "name": "python3"
  },
  "language_info": {
   "codemirror_mode": {
    "name": "ipython",
    "version": 3
   },
   "file_extension": ".py",
   "mimetype": "text/x-python",
   "name": "python",
   "nbconvert_exporter": "python",
   "pygments_lexer": "ipython3",
   "version": "3.10.10"
  },
  "orig_nbformat": 4
 },
 "nbformat": 4,
 "nbformat_minor": 2
}
