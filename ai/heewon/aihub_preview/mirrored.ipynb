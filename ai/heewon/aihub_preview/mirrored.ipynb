{
 "cells": [
  {
   "cell_type": "code",
   "execution_count": 47,
   "metadata": {},
   "outputs": [],
   "source": [
    "import os\n",
    "import json\n",
    "\n",
    "songname = 'gg-party'\n",
    "\n",
    "# JSON 파일이 있는 디렉토리 경로\n",
    "directory = f'./result/full/{songname}.json'\n",
    "\n",
    "# JSON 파일 열기\n",
    "with open(directory, 'r') as file:\n",
    "    data = json.load(file)\n",
    "\n",
    "#좌우반전\n",
    "for i in range(len(data)):\n",
    "    for name in range(17):\n",
    "        data[i][0]['keypoints'][name]['x'] = 1920 - data[i][0]['keypoints'][name]['x'] \n",
    "\n",
    "#파일 저장\n",
    "\n",
    "file_path = f'./result/jsonfiledatafull/{songname}.json'\n",
    "with open(file_path, 'w') as file:\n",
    "    json.dump(data, file, indent=4)"
   ]
  },
  {
   "cell_type": "code",
   "execution_count": null,
   "metadata": {},
   "outputs": [],
   "source": []
  }
 ],
 "metadata": {
  "kernelspec": {
   "display_name": ".venv",
   "language": "python",
   "name": "python3"
  },
  "language_info": {
   "codemirror_mode": {
    "name": "ipython",
    "version": 3
   },
   "file_extension": ".py",
   "mimetype": "text/x-python",
   "name": "python",
   "nbconvert_exporter": "python",
   "pygments_lexer": "ipython3",
   "version": "3.9.13"
  },
  "orig_nbformat": 4
 },
 "nbformat": 4,
 "nbformat_minor": 2
}
