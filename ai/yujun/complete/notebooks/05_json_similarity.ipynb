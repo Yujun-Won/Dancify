{
 "cells": [
  {
   "cell_type": "code",
   "execution_count": 1,
   "metadata": {},
   "outputs": [],
   "source": [
    "import sys\n",
    "sys.path.append('/Users/yujunwon/Project/dancify/ai/yujun/complete')           # 경로 설정 필요\n",
    "\n",
    "import angle_calculation\n",
    "from typing import List"
   ]
  },
  {
   "attachments": {},
   "cell_type": "markdown",
   "metadata": {},
   "source": [
    "---\n",
    "### 1. `angle_calculation.py`의 `compute_vector_angle` 함수의 boundary condition 검증"
   ]
  },
  {
   "cell_type": "code",
   "execution_count": 2,
   "metadata": {},
   "outputs": [
    {
     "name": "stdout",
     "output_type": "stream",
     "text": [
      "3.141592653589793\n",
      "180.0\n"
     ]
    }
   ],
   "source": [
    "import numpy as np\n",
    "\n",
    "L1 = np.array([1,1]) - np.array([2,1])\n",
    "L2 = np.array([1,1]) - np.array([0,1])\n",
    "\n",
    "# 벡터 크기\n",
    "magnitude1 = np.linalg.norm(L1)\n",
    "magnitude2 = np.linalg.norm(L2)\n",
    "\n",
    "# 각도를 radian과 degree로 계산\n",
    "angle_rad = np.arccos(np.dot(L1, L2) / (magnitude1 * magnitude2))\n",
    "angle_deg = np.degrees(angle_rad)\n",
    "\n",
    "print(angle_rad)\n",
    "print(angle_deg)"
   ]
  },
  {
   "attachments": {},
   "cell_type": "markdown",
   "metadata": {},
   "source": [
    "---\n",
    "### 2. JSON 비교 함수 구현에서 고려할 점\n",
    "1. dancer_joint와 danceable_joint 중에서 하나에 맞춰서 비교해야 함 → 둘 중에서 짧은 것에 맞춰서 일단 구현\n",
    "2. 프레임 단위로 비교할 때, 앞뒤 5프레임 정도를 평균내서 하는 것은 어떨지에 대해서 생각해보기 → 폐기"
   ]
  },
  {
   "attachments": {},
   "cell_type": "markdown",
   "metadata": {},
   "source": [
    "- 현재 `calculate_angle_difference()`는 두 JSON 중에서 짧은 것에 대응되도록 구현함"
   ]
  },
  {
   "cell_type": "code",
   "execution_count": 3,
   "metadata": {},
   "outputs": [
    {
     "data": {
      "text/plain": [
       "601"
      ]
     },
     "execution_count": 3,
     "metadata": {},
     "output_type": "execute_result"
    }
   ],
   "source": [
    "len(angle_calculation.calculate_angle_difference(\"../point_sample/test_data.json\", \"../point_sample/test_data_2.json\"))\n",
    "\n",
    "# test_data.json과 test_data_2.json은 각각 602, 601의 길이를 갖는다.\n",
    "# 현재 구현된 함수에서는 의도적으로 프레임 수가 동일하지 않은 경우에서도 동작하도록 구현했다."
   ]
  },
  {
   "attachments": {},
   "cell_type": "markdown",
   "metadata": {},
   "source": [
    "---\n",
    "### 3. `calculation_angle_difference()`의 출력을 받아 부위별 평균 각도차를 점수로 환산\n",
    "##### → `average_angle_difference()`"
   ]
  },
  {
   "cell_type": "code",
   "execution_count": null,
   "metadata": {},
   "outputs": [],
   "source": [
    "def average_angle_difference(dancer_json_path: str, danceable_json_path: str) -> List[float]:\n",
    "    \"\"\"\n",
    "    두 JSON 파일의 키포인트 정보를 이용하여 각 관절 각도의 평균 차이를 계산합니다.\n",
    "\n",
    "    Args:\n",
    "        dancer_json_path (str): 댄서의 JSON 파일 경로\n",
    "        danceable_json_path (str): 댄서블의 JSON 파일 경로\n",
    "\n",
    "    Returns:\n",
    "        List[float]: 각 관절 각도의 평균 차이를 담고 있는 리스트.\n",
    "                     리스트의 각 요소는 다음의 관절을 나타냅니다:\n",
    "                     0: 왼쪽 골반, 1: 오른쪽 골반, 2: 왼쪽 어깨, 3: 오른쪽 어깨,\n",
    "                     4: 왼쪽 팔꿈치, 5: 오른쪽 팔꿈치, 6: 왼쪽 무릎, 7: 오른쪽 무릎\n",
    "\n",
    "    Raises:\n",
    "        ValueError: `difference` 리스트가 비어 있거나, `difference` 리스트의 길이가 0인 경우 발생\n",
    "    \"\"\"\n",
    "    difference = angle_calculation.calculate_angle_difference(dancer_json_path, danceable_json_path)\n",
    "\n",
    "    # difference 리스트가 비어 있는지 확인\n",
    "    if not difference:\n",
    "        raise ValueError(\"The difference list is empty.\")\n",
    "\n",
    "    angle_sums = [0.0] * 8\n",
    "\n",
    "    for diff in difference:\n",
    "        for i in range(len(diff)):\n",
    "            angle_sums[i] += diff[i]\n",
    "\n",
    "    # difference 리스트의 길이가 0인지 확인 (0으로 나누는 오류 방지)\n",
    "    if len(difference) == 0:\n",
    "        raise ValueError(\"Cannot divide by zero.\")\n",
    "\n",
    "    angle_difference = [x / len(difference) for x in angle_sums]\n",
    "    \n",
    "    return angle_difference\n"
   ]
  }
 ],
 "metadata": {
  "kernelspec": {
   "display_name": "dancify",
   "language": "python",
   "name": "python3"
  },
  "language_info": {
   "codemirror_mode": {
    "name": "ipython",
    "version": 3
   },
   "file_extension": ".py",
   "mimetype": "text/x-python",
   "name": "python",
   "nbconvert_exporter": "python",
   "pygments_lexer": "ipython3",
   "version": "3.10.10"
  },
  "orig_nbformat": 4
 },
 "nbformat": 4,
 "nbformat_minor": 2
}
