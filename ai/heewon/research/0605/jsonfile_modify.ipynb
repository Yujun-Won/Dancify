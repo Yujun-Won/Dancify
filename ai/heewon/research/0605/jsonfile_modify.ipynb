{
 "cells": [
  {
   "cell_type": "code",
   "execution_count": 2,
   "metadata": {},
   "outputs": [
    {
     "name": "stdout",
     "output_type": "stream",
     "text": [
      "2974\n"
     ]
    }
   ],
   "source": [
    "import os\n",
    "import json\n",
    "\n",
    "# JSON 파일이 있는 디렉토리 경로\n",
    "directory = './PosenetRealtime/public/json_file/'\n",
    "\n",
    "# 디렉토리 내의 모든 파일 이름을 불러옵니다.\n",
    "file_names = [file for file in os.listdir(directory)]\n",
    "\n",
    "print(len(file_names))"
   ]
  },
  {
   "cell_type": "code",
   "execution_count": null,
   "metadata": {},
   "outputs": [],
   "source": [
    "for filename in file_names:\n",
    "\n",
    "    # JSON 파일 경로\n",
    "    file_path = f'./PosenetRealtime/public/json_file/{filename}'\n",
    "\n",
    "    # JSON 파일을 읽어옵니다.\n",
    "    with open(file_path, 'r') as file:\n",
    "        data = json.load(file)\n",
    "\n",
    "    #Posenet_lst\n",
    "    posenet_lst = ['nose',  'leftEye', 'rightEye', 'leftEar', 'rightEar', 'leftShoulder', 'rightShoulder', \\\n",
    "                'leftElbow', 'rightElbow', 'leftWrist', 'rightWrist', 'leftHip', 'rightHip', 'leftKnee',\\\n",
    "                    'rightKnee', 'leftAnkle', 'rightAnkle']\n",
    "\n",
    "    #point 별 (x,y,values)\n",
    "    keypoint = data['annotations'][0]['keypoints']\n",
    "\n",
    "    #posenet result에 맞게 결과 변형\n",
    "    pose=dict({'keypoints':[]})\n",
    "    n=0\n",
    "    for i in [24,25,26,27,28,14,19,15,20,16,21,1,6,2,7,3,8]: #notion 참고\n",
    "        part = posenet_lst[n]\n",
    "        x, y, visible = keypoint[i*3:i*3+3]\n",
    "        score = 0 if visible==0 else 100\n",
    "        pose['keypoints'].append({'score':score, 'part':part, \\\n",
    "                                'position':{'x':x, 'y':y}})\n",
    "        n+=1\n",
    "\n",
    "\n",
    "    # JSON 파일 경로\n",
    "    file_path = f'./PosenetRealtime/public/json/{filename}'\n",
    "\n",
    "    # 딕셔너리를 JSON 파일로 저장합니다.\n",
    "    with open(file_path, 'w') as file:\n",
    "        json.dump(pose, file, indent=4)"
   ]
  },
  {
   "cell_type": "code",
   "execution_count": null,
   "metadata": {},
   "outputs": [],
   "source": []
  },
  {
   "cell_type": "code",
   "execution_count": null,
   "metadata": {},
   "outputs": [],
   "source": [
    "# 파일을 "
   ]
  },
  {
   "cell_type": "code",
   "execution_count": 1,
   "metadata": {},
   "outputs": [
    {
     "name": "stdout",
     "output_type": "stream",
     "text": [
      "2974\n"
     ]
    }
   ],
   "source": [
    "#전체 합치기\n",
    "\n",
    "import os\n",
    "import json\n",
    "\n",
    "# JSON 파일이 있는 디렉토리 경로\n",
    "directory = './PosenetRealtime/src/json/'\n",
    "\n",
    "# 디렉토리 내의 모든 파일 이름을 불러옵니다.\n",
    "file_names = [file for file in os.listdir(directory)]\n",
    "\n",
    "print(len(file_names))"
   ]
  },
  {
   "cell_type": "code",
   "execution_count": 4,
   "metadata": {},
   "outputs": [],
   "source": [
    "posenet_json = dict()\n",
    "idx=0\n",
    "for filename in file_names:\n",
    "    idx+=1 #1초부터\n",
    "\n",
    "    # JSON 파일 경로\n",
    "    file_path = f'./PosenetRealtime/src/json/{filename}'\n",
    "    \n",
    "    with open(file_path, 'r') as file:\n",
    "        data = json.load(file)\n",
    "\n",
    "    posenet_json[idx] = data"
   ]
  },
  {
   "cell_type": "code",
   "execution_count": 9,
   "metadata": {},
   "outputs": [
    {
     "data": {
      "text/plain": [
       "2974"
      ]
     },
     "execution_count": 9,
     "metadata": {},
     "output_type": "execute_result"
    }
   ],
   "source": [
    "len(posenet_json)"
   ]
  },
  {
   "cell_type": "code",
   "execution_count": null,
   "metadata": {
    "vscode": {
     "languageId": "javascript"
    }
   },
   "outputs": [],
   "source": [
    "file_path = f'./PosenetRealtime/src/dancer_json.json'\n",
    "with open(file_path, 'w') as file:\n",
    "    json.dump(posenet_json, file, indent=4)"
   ]
  }
 ],
 "metadata": {
  "kernelspec": {
   "display_name": ".venv",
   "language": "python",
   "name": "python3"
  },
  "language_info": {
   "codemirror_mode": {
    "name": "ipython",
    "version": 3
   },
   "file_extension": ".py",
   "mimetype": "text/x-python",
   "name": "python",
   "nbconvert_exporter": "python",
   "pygments_lexer": "ipython3",
   "version": "3.10.10"
  },
  "orig_nbformat": 4
 },
 "nbformat": 4,
 "nbformat_minor": 2
}
