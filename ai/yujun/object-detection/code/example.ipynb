{
 "cells": [
  {
   "cell_type": "code",
   "execution_count": 1,
   "metadata": {},
   "outputs": [],
   "source": [
    "import shortform_generator\n",
    "import sys\n",
    "sys.path.append(\n",
    "    \"/Users/yujunwon/Project/dancify/ai/yujun/object-detection/code/\")"
   ]
  },
  {
   "cell_type": "code",
   "execution_count": 3,
   "metadata": {},
   "outputs": [
    {
     "name": "stdout",
     "output_type": "stream",
     "text": [
      "MoviePy - Writing audio in ./audio_video/04aab266-2c20-4ba7-87f5-964f59de8827.mp3\n"
     ]
    },
    {
     "name": "stderr",
     "output_type": "stream",
     "text": [
      "                                                                      \r"
     ]
    },
    {
     "name": "stdout",
     "output_type": "stream",
     "text": [
      "MoviePy - Done.\n",
      "음성 추출이 성공적으로 완료되었습니다.\n",
      "Moviepy - Building video ../code/result/flower.mp4.\n",
      "MoviePy - Writing audio in flowerTEMP_MPY_wvf_snd.mp3\n"
     ]
    },
    {
     "name": "stderr",
     "output_type": "stream",
     "text": [
      "                                                                      \r"
     ]
    },
    {
     "name": "stdout",
     "output_type": "stream",
     "text": [
      "MoviePy - Done.\n",
      "Moviepy - Writing video ../code/result/flower.mp4\n",
      "\n"
     ]
    },
    {
     "name": "stderr",
     "output_type": "stream",
     "text": [
      "                                                                 "
     ]
    },
    {
     "name": "stdout",
     "output_type": "stream",
     "text": [
      "Moviepy - Done !\n",
      "Moviepy - video ready ../code/result/flower.mp4\n",
      "음성 합성이 성공적으로 완료되었습니다.\n",
      "Processing of video is done.\n"
     ]
    },
    {
     "name": "stderr",
     "output_type": "stream",
     "text": [
      "\r"
     ]
    }
   ],
   "source": [
    "# 사용 예시\n",
    "shortform_generator.generate_video(\n",
    "    video_path=\"../code/audio_video/flower.mp4\", output_path=\"../code/result/\")"
   ]
  },
  {
   "cell_type": "code",
   "execution_count": 3,
   "metadata": {},
   "outputs": [
    {
     "name": "stdout",
     "output_type": "stream",
     "text": [
      "세로 형식의 영상이므로 그대로 저장했습니다.\n"
     ]
    }
   ],
   "source": [
    "# 사용 예시\n",
    "shortform_generator.generate_video(\n",
    "    video_path=\"../code/audio_video/mola.mp4\", output_path=\"../code/result/\")"
   ]
  },
  {
   "cell_type": "code",
   "execution_count": 5,
   "metadata": {},
   "outputs": [
    {
     "name": "stdout",
     "output_type": "stream",
     "text": [
      "original size: 1280, 720\n",
      "original size: 1080, 1920\n"
     ]
    }
   ],
   "source": [
    "import cv2\n",
    "\n",
    "cap1 = cv2.VideoCapture(\"./audio_video/flower.mp4\")\n",
    "cap2 = cv2.VideoCapture(\"./audio_video/mola.mp4\")\n",
    "\n",
    "width1 = cap1.get(cv2.CAP_PROP_FRAME_WIDTH)\n",
    "height1 = cap1.get(cv2.CAP_PROP_FRAME_HEIGHT)\n",
    "\n",
    "width2 = cap2.get(cv2.CAP_PROP_FRAME_WIDTH)\n",
    "height2 = cap2.get(cv2.CAP_PROP_FRAME_HEIGHT)\n",
    "\n",
    "print('original size: %d, %d' % (width1, height1))\n",
    "print('original size: %d, %d' % (width2, height2))"
   ]
  },
  {
   "cell_type": "code",
   "execution_count": 7,
   "metadata": {},
   "outputs": [],
   "source": [
    "def resize_video(input_path, output_path):\n",
    "    # VideoCapture 객체 생성\n",
    "    cap = cv2.VideoCapture(input_path)\n",
    "\n",
    "    # 영상의 정보를 얻기 위해 첫 프레임을 읽는다.\n",
    "    ret, frame = cap.read()\n",
    "\n",
    "    if not ret:\n",
    "        print(\"Can't receive frame (stream end?). Exiting ...\")\n",
    "        return\n",
    "\n",
    "    # 영상의 가로 세로 길이를 얻는다.\n",
    "    height, width, _ = frame.shape\n",
    "    fps = cap.get(cv2.CAP_PROP_FPS)\n",
    "\n",
    "    # 9:16 비율을 만들기 위한 새로운 가로 길이를 계산한다.\n",
    "    new_width = int(height * 9 / 16)\n",
    "\n",
    "    # 가운데를 기준으로 이미지를 자른다.\n",
    "    start_x = width // 2 - new_width // 2\n",
    "    end_x = width // 2 + new_width // 2\n",
    "\n",
    "    # 비디오 라이터 설정\n",
    "    fourcc = cv2.VideoWriter_fourcc(*'avc1')  # 코덱 지정\n",
    "    out = cv2.VideoWriter(output_path, fourcc, fps, (1080, 1920))\n",
    "\n",
    "    while cap.isOpened():\n",
    "        ret, frame = cap.read()\n",
    "\n",
    "        if not ret:\n",
    "            break\n",
    "\n",
    "        # 이미지를 자른다.\n",
    "        cropped = frame[:, start_x:end_x]\n",
    "\n",
    "        # 자른 이미지를 1080x1920으로 보간한다.\n",
    "        resized = cv2.resize(cropped, (1080, 1920), interpolation = cv2.INTER_LINEAR)\n",
    "\n",
    "        # 보간한 이미지를 쓴다.\n",
    "        out.write(resized)\n",
    "\n",
    "    cap.release()\n",
    "    out.release()\n",
    "\n",
    "resize_video('./result/flower.mp4', './result/flower-interpolated.mp4')"
   ]
  },
  {
   "attachments": {},
   "cell_type": "markdown",
   "metadata": {},
   "source": [
    "---"
   ]
  },
  {
   "cell_type": "code",
   "execution_count": 1,
   "metadata": {},
   "outputs": [],
   "source": [
    "import sf_generator_webm\n",
    "import sys\n",
    "sys.path.append(\n",
    "    \"/Users/yujunwon/Project/dancify/ai/yujun/object-detection/code/\")"
   ]
  },
  {
   "cell_type": "code",
   "execution_count": 2,
   "metadata": {},
   "outputs": [
    {
     "name": "stdout",
     "output_type": "stream",
     "text": [
      "MoviePy - Writing audio in ../code/result/pop-webm.mp3\n"
     ]
    },
    {
     "name": "stderr",
     "output_type": "stream",
     "text": [
      "                                                                      "
     ]
    },
    {
     "name": "stdout",
     "output_type": "stream",
     "text": [
      "MoviePy - Done.\n"
     ]
    },
    {
     "name": "stderr",
     "output_type": "stream",
     "text": [
      "\r"
     ]
    },
    {
     "data": {
      "text/plain": [
       "True"
      ]
     },
     "execution_count": 2,
     "metadata": {},
     "output_type": "execute_result"
    }
   ],
   "source": [
    "sf_generator_webm.extract_audio(\"../code/audio_video/pop.webm\", \"../code/result/pop-webm.mp3\")"
   ]
  },
  {
   "cell_type": "code",
   "execution_count": 3,
   "metadata": {},
   "outputs": [
    {
     "name": "stdout",
     "output_type": "stream",
     "text": [
      "세로 형식의 영상이므로 그대로 저장했습니다.\n"
     ]
    }
   ],
   "source": [
    "# 사용 예시\n",
    "sf_generator_webm.generate_video(\n",
    "    video_path=\"../code/audio_video/mola.webm\", output_path=\"../code/result/\")"
   ]
  },
  {
   "cell_type": "code",
   "execution_count": 4,
   "metadata": {},
   "outputs": [
    {
     "name": "stdout",
     "output_type": "stream",
     "text": [
      "MoviePy - Writing audio in ./audio_video/40cf5b69-a246-4cb6-8829-933376bfb6bd.mp3\n"
     ]
    },
    {
     "name": "stderr",
     "output_type": "stream",
     "text": [
      "INFO: Created TensorFlow Lite XNNPACK delegate for CPU.               \n"
     ]
    },
    {
     "name": "stdout",
     "output_type": "stream",
     "text": [
      "MoviePy - Done.\n",
      "음성 추출이 성공적으로 완료되었습니다.\n",
      "Moviepy - Building video ../code/result/pop.mp4.\n",
      "MoviePy - Writing audio in popTEMP_MPY_wvf_snd.mp3\n"
     ]
    },
    {
     "name": "stderr",
     "output_type": "stream",
     "text": [
      "                                                                      \r"
     ]
    },
    {
     "name": "stdout",
     "output_type": "stream",
     "text": [
      "MoviePy - Done.\n",
      "Moviepy - Writing video ../code/result/pop.mp4\n",
      "\n"
     ]
    },
    {
     "name": "stderr",
     "output_type": "stream",
     "text": [
      "                                                                 \r"
     ]
    },
    {
     "name": "stdout",
     "output_type": "stream",
     "text": [
      "Moviepy - Done !\n",
      "Moviepy - video ready ../code/result/pop.mp4\n",
      "음성 합성이 성공적으로 완료되었습니다.\n",
      "Processing of video is done.\n"
     ]
    }
   ],
   "source": [
    "sf_generator_webm.generate_video(\n",
    "    video_path=\"../code/audio_video/pop.webm\", output_path=\"../code/result/\")"
   ]
  }
 ],
 "metadata": {
  "kernelspec": {
   "display_name": "dancify",
   "language": "python",
   "name": "python3"
  },
  "language_info": {
   "codemirror_mode": {
    "name": "ipython",
    "version": 3
   },
   "file_extension": ".py",
   "mimetype": "text/x-python",
   "name": "python",
   "nbconvert_exporter": "python",
   "pygments_lexer": "ipython3",
   "version": "3.10.10"
  },
  "orig_nbformat": 4
 },
 "nbformat": 4,
 "nbformat_minor": 2
}
