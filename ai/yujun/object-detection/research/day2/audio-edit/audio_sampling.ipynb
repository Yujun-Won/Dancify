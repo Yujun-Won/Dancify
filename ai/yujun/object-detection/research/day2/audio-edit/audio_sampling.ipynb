{
 "cells": [
  {
   "cell_type": "code",
   "execution_count": 6,
   "metadata": {},
   "outputs": [],
   "source": [
    "from moviepy.editor import VideoFileClip, AudioFileClip"
   ]
  },
  {
   "attachments": {},
   "cell_type": "markdown",
   "metadata": {},
   "source": [
    "### 1. 음성 분리"
   ]
  },
  {
   "cell_type": "code",
   "execution_count": 2,
   "metadata": {},
   "outputs": [],
   "source": [
    "def extract_audio(video_file, audio_file):\n",
    "    video = VideoFileClip(video_file)\n",
    "    audio = video.audio\n",
    "    audio.write_audiofile(audio_file)"
   ]
  },
  {
   "cell_type": "code",
   "execution_count": 7,
   "metadata": {},
   "outputs": [
    {
     "name": "stdout",
     "output_type": "stream",
     "text": [
      "MoviePy - Writing audio in ./audios/ditto.mp3\n"
     ]
    },
    {
     "name": "stderr",
     "output_type": "stream",
     "text": [
      "                                                                      "
     ]
    },
    {
     "name": "stdout",
     "output_type": "stream",
     "text": [
      "MoviePy - Done.\n"
     ]
    },
    {
     "name": "stderr",
     "output_type": "stream",
     "text": [
      "\r"
     ]
    }
   ],
   "source": [
    "# extract_audio(음성 추출할 영상 경로, 음성 저장할 경로)\n",
    "extract_audio(\"./original_videos/ditto.mp4\", './audios/ditto.mp3')"
   ]
  },
  {
   "attachments": {},
   "cell_type": "markdown",
   "metadata": {},
   "source": [
    "### 2. 음성 합성"
   ]
  },
  {
   "cell_type": "code",
   "execution_count": 4,
   "metadata": {},
   "outputs": [],
   "source": [
    "def merge_video_audio(video_file, audio_file, output_file):\n",
    "    video = VideoFileClip(video_file)\n",
    "    audio = AudioFileClip(audio_file)\n",
    "    \n",
    "    # Make sure the audio is long enough for the video\n",
    "    audio = audio.subclip(0, video.duration)\n",
    "    \n",
    "    video = video.set_audio(audio)\n",
    "    video.write_videofile(output_file, codec='libx264')"
   ]
  },
  {
   "cell_type": "code",
   "execution_count": 9,
   "metadata": {},
   "outputs": [
    {
     "name": "stdout",
     "output_type": "stream",
     "text": [
      "Moviepy - Building video ./results/ditto.mp4.\n",
      "MoviePy - Writing audio in dittoTEMP_MPY_wvf_snd.mp3\n"
     ]
    },
    {
     "name": "stderr",
     "output_type": "stream",
     "text": [
      "                                                                      \r"
     ]
    },
    {
     "name": "stdout",
     "output_type": "stream",
     "text": [
      "MoviePy - Done.\n",
      "Moviepy - Writing video ./results/ditto.mp4\n",
      "\n"
     ]
    },
    {
     "name": "stderr",
     "output_type": "stream",
     "text": [
      "                                                                 \r"
     ]
    },
    {
     "name": "stdout",
     "output_type": "stream",
     "text": [
      "Moviepy - Done !\n",
      "Moviepy - video ready ./results/ditto.mp4\n",
      "CPU times: user 2.56 s, sys: 6.84 s, total: 9.4 s\n",
      "Wall time: 34.4 s\n"
     ]
    }
   ],
   "source": [
    "%%time\n",
    "\n",
    "keyword = \"ditto\"\n",
    "\n",
    "# merge_video_audio(음성 합성할 영상 경로, 합성할 음성 경로, 결과 경로)\n",
    "merge_video_audio(f\"./detected_videos/{keyword}.mp4\", f\"./audios/{keyword}.mp3\", f\"./results/{keyword}.mp4\")"
   ]
  }
 ],
 "metadata": {
  "kernelspec": {
   "display_name": "dancify",
   "language": "python",
   "name": "python3"
  },
  "language_info": {
   "codemirror_mode": {
    "name": "ipython",
    "version": 3
   },
   "file_extension": ".py",
   "mimetype": "text/x-python",
   "name": "python",
   "nbconvert_exporter": "python",
   "pygments_lexer": "ipython3",
   "version": "3.10.10"
  },
  "orig_nbformat": 4
 },
 "nbformat": 4,
 "nbformat_minor": 2
}
