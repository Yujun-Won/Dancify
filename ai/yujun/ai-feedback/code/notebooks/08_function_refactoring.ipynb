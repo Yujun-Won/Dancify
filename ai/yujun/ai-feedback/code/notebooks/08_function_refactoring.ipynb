{
 "cells": [
  {
   "cell_type": "code",
   "execution_count": 1,
   "metadata": {},
   "outputs": [],
   "source": [
    "import sys\n",
    "sys.path.append('/Users/yujunwon/Project/dancify/ai/yujun/ai-feedback/code')\n",
    "\n",
    "import ai_feedback"
   ]
  },
  {
   "cell_type": "code",
   "execution_count": 2,
   "metadata": {},
   "outputs": [],
   "source": [
    "dancer_angle = ai_feedback.calculate_joint_angles(\"../point_sample/sample_1.json\")\n",
    "danceable_angle = ai_feedback.calculate_joint_angles(\"../point_sample/sample_2.json\")\n",
    "\n",
    "dancer_angle_sec = ai_feedback.calculate_angles_per_sec(dancer_angle, 'dancer')\n",
    "danceable_angle_sec = ai_feedback.calculate_angles_per_sec(danceable_angle, 'danceable')"
   ]
  },
  {
   "cell_type": "code",
   "execution_count": 3,
   "metadata": {},
   "outputs": [
    {
     "data": {
      "text/plain": [
       "{'sec': 1,\n",
       " 'dancer_left_pelvic_angle': 171.796,\n",
       " 'dancer_right_pelvic_angle': 169.84,\n",
       " 'dancer_left_shoulder_angle': 30.783,\n",
       " 'dancer_right_shoulder_angle': 8.243,\n",
       " 'dancer_left_elbow_angle': 113.774,\n",
       " 'dancer_right_elbow_angle': 118.631,\n",
       " 'dancer_left_knee_angle': 172.783,\n",
       " 'dancer_right_knee_angle': 169.388}"
      ]
     },
     "execution_count": 3,
     "metadata": {},
     "output_type": "execute_result"
    }
   ],
   "source": [
    "dancer_angle_sec[0]"
   ]
  },
  {
   "cell_type": "code",
   "execution_count": 4,
   "metadata": {},
   "outputs": [
    {
     "data": {
      "text/plain": [
       "{'sec': 1,\n",
       " 'danceable_left_pelvic_angle': 172.069,\n",
       " 'danceable_right_pelvic_angle': 169.589,\n",
       " 'danceable_left_shoulder_angle': 30.101,\n",
       " 'danceable_right_shoulder_angle': 6.568,\n",
       " 'danceable_left_elbow_angle': 114.455,\n",
       " 'danceable_right_elbow_angle': 119.293,\n",
       " 'danceable_left_knee_angle': 173.022,\n",
       " 'danceable_right_knee_angle': 168.053}"
      ]
     },
     "execution_count": 4,
     "metadata": {},
     "output_type": "execute_result"
    }
   ],
   "source": [
    "danceable_angle_sec[0]"
   ]
  },
  {
   "cell_type": "code",
   "execution_count": 5,
   "metadata": {},
   "outputs": [
    {
     "data": {
      "text/plain": [
       "[{'sec': 1, 'pelvis': 98, 'shoulder': 97, 'forearm': 79, 'leg': 96},\n",
       " {'sec': 2, 'pelvis': 97, 'shoulder': 97, 'forearm': 79, 'leg': 96},\n",
       " {'sec': 3, 'pelvis': 94, 'shoulder': 97, 'forearm': 78, 'leg': 94},\n",
       " {'sec': 4, 'pelvis': 96, 'shoulder': 94, 'forearm': 81, 'leg': 96},\n",
       " {'sec': 5, 'pelvis': 97, 'shoulder': 85, 'forearm': 82, 'leg': 95},\n",
       " {'sec': 6, 'pelvis': 97, 'shoulder': 92, 'forearm': 74, 'leg': 96},\n",
       " {'sec': 7, 'pelvis': 92, 'shoulder': 93, 'forearm': 75, 'leg': 91},\n",
       " {'sec': 8, 'pelvis': 95, 'shoulder': 95, 'forearm': 66, 'leg': 93},\n",
       " {'sec': 9, 'pelvis': 98, 'shoulder': 91, 'forearm': 93, 'leg': 97},\n",
       " {'sec': 10, 'pelvis': 99, 'shoulder': 91, 'forearm': 87, 'leg': 98},\n",
       " {'sec': 11, 'pelvis': 98, 'shoulder': 83, 'forearm': 70, 'leg': 98},\n",
       " {'sec': 12, 'pelvis': 98, 'shoulder': 93, 'forearm': 87, 'leg': 98},\n",
       " {'sec': 13, 'pelvis': 98, 'shoulder': 95, 'forearm': 86, 'leg': 98},\n",
       " {'sec': 14, 'pelvis': 98, 'shoulder': 77, 'forearm': 67, 'leg': 96},\n",
       " {'sec': 15, 'pelvis': 99, 'shoulder': 90, 'forearm': 84, 'leg': 98},\n",
       " {'sec': 16, 'pelvis': 98, 'shoulder': 90, 'forearm': 77, 'leg': 98},\n",
       " {'sec': 17, 'pelvis': 98, 'shoulder': 86, 'forearm': 75, 'leg': 98},\n",
       " {'sec': 18, 'pelvis': 98, 'shoulder': 96, 'forearm': 85, 'leg': 97},\n",
       " {'sec': 19, 'pelvis': 98, 'shoulder': 89, 'forearm': 75, 'leg': 96},\n",
       " {'sec': 20, 'pelvis': 97, 'shoulder': 70, 'forearm': 67, 'leg': 95},\n",
       " {'sec': 21, 'pelvis': 98, 'shoulder': 87, 'forearm': 81, 'leg': 98},\n",
       " {'sec': 22, 'pelvis': 98, 'shoulder': 95, 'forearm': 82, 'leg': 98},\n",
       " {'sec': 23, 'pelvis': 98, 'shoulder': 98, 'forearm': 92, 'leg': 97},\n",
       " {'sec': 24, 'pelvis': 94, 'shoulder': 95, 'forearm': 72, 'leg': 94},\n",
       " {'sec': 25, 'pelvis': 98, 'shoulder': 93, 'forearm': 83, 'leg': 96},\n",
       " {'sec': 26, 'pelvis': 97, 'shoulder': 97, 'forearm': 87, 'leg': 96},\n",
       " {'sec': 27, 'pelvis': 98, 'shoulder': 86, 'forearm': 79, 'leg': 96},\n",
       " {'sec': 28, 'pelvis': 97, 'shoulder': 73, 'forearm': 63, 'leg': 96},\n",
       " {'sec': 29, 'pelvis': 97, 'shoulder': 86, 'forearm': 86, 'leg': 97},\n",
       " {'sec': 30, 'pelvis': 96, 'shoulder': 98, 'forearm': 84, 'leg': 92},\n",
       " {'sec': 31, 'pelvis': 98, 'shoulder': 98, 'forearm': 86, 'leg': 98},\n",
       " {'sec': 32, 'pelvis': 97, 'shoulder': 99, 'forearm': 95, 'leg': 95},\n",
       " {'sec': 33, 'pelvis': 98, 'shoulder': 97, 'forearm': 89, 'leg': 98},\n",
       " {'sec': 34, 'pelvis': 98, 'shoulder': 90, 'forearm': 72, 'leg': 97},\n",
       " {'sec': 35, 'pelvis': 98, 'shoulder': 90, 'forearm': 79, 'leg': 99}]"
      ]
     },
     "execution_count": 5,
     "metadata": {},
     "output_type": "execute_result"
    }
   ],
   "source": [
    "data = ai_feedback.calculate_scores(\"../point_sample/sample_1.json\", \"../point_sample/sample_2.json\")\n",
    "data"
   ]
  },
  {
   "cell_type": "code",
   "execution_count": 6,
   "metadata": {},
   "outputs": [],
   "source": [
    "scores = ai_feedback.calculate_scores_by_body_part(data)\n",
    "avg_score_dict = ai_feedback.calculate_average_scores(scores)\n",
    "message = ai_feedback.generate_messages(avg_score_dict)\n",
    "error_time = ai_feedback.find_error_time(scores, 85)"
   ]
  },
  {
   "attachments": {},
   "cell_type": "markdown",
   "metadata": {},
   "source": [
    "---"
   ]
  },
  {
   "cell_type": "code",
   "execution_count": 7,
   "metadata": {},
   "outputs": [],
   "source": [
    "import json\n",
    "\n",
    "def create_json(data, error, avg_score, message):\n",
    "    json_data = {\n",
    "        \"data\": data,\n",
    "        \"error\": error,\n",
    "        \"avg_score\": avg_score,\n",
    "        \"message\": message        \n",
    "    }\n",
    "    return json_data"
   ]
  },
  {
   "cell_type": "code",
   "execution_count": 14,
   "metadata": {},
   "outputs": [],
   "source": [
    "def create_json(data, dancer_angle_sec, danceable_angle_sec, error_time, avg_score, message):\n",
    "    new_data = []\n",
    "    for d in data:\n",
    "        sec_data = {\n",
    "            \"sec\": d[\"sec\"],\n",
    "            \"pelvis\": {\n",
    "                \"score\": d[\"pelvis\"],\n",
    "                \"dancer_left_pelvic_angle\": dancer_angle_sec[d[\"sec\"] - 1][\"dancer_left_pelvic_angle\"],\n",
    "                \"dancer_right_pelvic_angle\": dancer_angle_sec[d[\"sec\"] - 1][\"dancer_right_pelvic_angle\"],\n",
    "                \"danceable_left_pelvic_angle\": danceable_angle_sec[d[\"sec\"] - 1][\"danceable_left_pelvic_angle\"],\n",
    "                \"danceable_right_pelvic_angle\": danceable_angle_sec[d[\"sec\"] - 1][\"danceable_right_pelvic_angle\"]\n",
    "            },\n",
    "            \"shoulder\": {\n",
    "                \"score\": d[\"shoulder\"],\n",
    "                \"dancer_left_shoulder_angle\": dancer_angle_sec[d[\"sec\"] - 1][\"dancer_left_shoulder_angle\"],\n",
    "                \"dancer_right_shoulder_angle\": dancer_angle_sec[d[\"sec\"] - 1][\"dancer_right_shoulder_angle\"],\n",
    "                \"danceable_left_shoulder_angle\": danceable_angle_sec[d[\"sec\"] - 1][\"danceable_left_shoulder_angle\"],\n",
    "                \"danceable_right_shoulder_angle\": danceable_angle_sec[d[\"sec\"] - 1][\"danceable_right_shoulder_angle\"]\n",
    "            },\n",
    "            \"forearm\": {\n",
    "                \"score\": d[\"forearm\"],\n",
    "                \"dancer_left_elbow_angle\": dancer_angle_sec[d[\"sec\"] - 1][\"dancer_left_elbow_angle\"],\n",
    "                \"dancer_right_elbow_angle\": dancer_angle_sec[d[\"sec\"] - 1][\"dancer_right_elbow_angle\"],\n",
    "                \"danceable_left_elbow_angle\": danceable_angle_sec[d[\"sec\"] - 1][\"danceable_left_elbow_angle\"],\n",
    "                \"danceable_right_elbow_angle\": danceable_angle_sec[d[\"sec\"] - 1][\"danceable_right_elbow_angle\"]\n",
    "            },\n",
    "            \"leg\": {\n",
    "                \"score\": d[\"leg\"],\n",
    "                \"dancer_left_knee_angle\": dancer_angle_sec[d[\"sec\"] - 1][\"dancer_left_knee_angle\"],\n",
    "                \"dancer_right_knee_angle\": dancer_angle_sec[d[\"sec\"] - 1][\"dancer_right_knee_angle\"],\n",
    "                \"danceable_left_knee_angle\": danceable_angle_sec[d[\"sec\"] - 1][\"danceable_left_knee_angle\"],\n",
    "                \"danceable_right_knee_angle\": danceable_angle_sec[d[\"sec\"] - 1][\"danceable_right_knee_angle\"]\n",
    "            }\n",
    "        }\n",
    "        new_data.append(sec_data)\n",
    "\n",
    "    json_data = {\n",
    "        \"data\": new_data,\n",
    "        \"error\": error_time,\n",
    "        \"avg_score\": avg_score,\n",
    "        \"message\": message\n",
    "    }\n",
    "    return json_data\n"
   ]
  },
  {
   "cell_type": "code",
   "execution_count": 15,
   "metadata": {},
   "outputs": [],
   "source": [
    "json_data = create_json(data, dancer_angle_sec, danceable_angle_sec, error_time, avg_score_dict, message)"
   ]
  },
  {
   "cell_type": "code",
   "execution_count": 16,
   "metadata": {},
   "outputs": [],
   "source": [
    "# 위에서 생성한 json_data를 사용\n",
    "with open('data.json', 'w') as f:\n",
    "    json.dump(json_data, f, ensure_ascii=False, indent=4)"
   ]
  }
 ],
 "metadata": {
  "kernelspec": {
   "display_name": "dancify",
   "language": "python",
   "name": "python3"
  },
  "language_info": {
   "codemirror_mode": {
    "name": "ipython",
    "version": 3
   },
   "file_extension": ".py",
   "mimetype": "text/x-python",
   "name": "python",
   "nbconvert_exporter": "python",
   "pygments_lexer": "ipython3",
   "version": "3.10.10"
  },
  "orig_nbformat": 4
 },
 "nbformat": 4,
 "nbformat_minor": 2
}
