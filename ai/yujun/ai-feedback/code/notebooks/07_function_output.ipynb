{
 "cells": [
  {
   "cell_type": "code",
   "execution_count": 1,
   "metadata": {},
   "outputs": [],
   "source": [
    "import sys\n",
    "sys.path.append('/Users/yujunwon/Project/dancify/ai/yujun/ai-feedback/code')\n",
    "\n",
    "import angle_calculation_origin"
   ]
  },
  {
   "attachments": {},
   "cell_type": "markdown",
   "metadata": {},
   "source": [
    "---"
   ]
  },
  {
   "cell_type": "code",
   "execution_count": 2,
   "metadata": {},
   "outputs": [
    {
     "data": {
      "text/plain": [
       "[[[427.4884955087254, 182.10784436156305, 'left_shoulder'],\n",
       "  [354.00804615088583, 189.88467244972514, 'right_shoulder'],\n",
       "  [476.7904280494792, 183.72126482132413, 'left_elbow'],\n",
       "  [310.6017021259135, 207.26402713522435, 'right_elbow'],\n",
       "  [485.53463359036107, 225.42944193520182, 'left_wrist'],\n",
       "  [309.4645691170168, 169.6284822040477, 'right_wrist'],\n",
       "  [412.6742357738002, 290.6946279163935, 'left_hip'],\n",
       "  [366.9840610907826, 290.120887133862, 'right_hip'],\n",
       "  [438.3481010713819, 373.063702729207, 'left_knee'],\n",
       "  [346.6532861423037, 374.41220400969996, 'right_knee'],\n",
       "  [464.534584566135, 445.67504014274107, 'left_ankle'],\n",
       "  [327.39942563710133, 444.54447352585976, 'right_ankle']]]"
      ]
     },
     "execution_count": 2,
     "metadata": {},
     "output_type": "execute_result"
    }
   ],
   "source": [
    "joints = angle_calculation_origin.load_keypoints_from_json(\"../point_sample/heewon.json\")\n",
    "joints"
   ]
  },
  {
   "cell_type": "code",
   "execution_count": 3,
   "metadata": {},
   "outputs": [
    {
     "data": {
      "text/plain": [
       "[{'left_pelvic_joint': 154.9193311351629,\n",
       "  'right_pelvic_joint': 159.06329419368845,\n",
       "  'left_shoulder_joint': 95.89442455038004,\n",
       "  'right_shoulder_joint': 75.55562323149874,\n",
       "  'left_elbow_joint': 103.71503726462302,\n",
       "  'right_elbow_joint': 69.91008403993698,\n",
       "  'left_knee_joint': 177.48060813516332,\n",
       "  'right_knee_joint': 178.2089858205297,\n",
       "  'frame_no': 0}]"
      ]
     },
     "execution_count": 3,
     "metadata": {},
     "output_type": "execute_result"
    }
   ],
   "source": [
    "angle_calculation_origin.calculate_joint_angles(joints)"
   ]
  },
  {
   "cell_type": "code",
   "execution_count": 4,
   "metadata": {},
   "outputs": [
    {
     "data": {
      "text/plain": [
       "[[34.691423931315285,\n",
       "  12.573530872967524,\n",
       "  47.88162516279035,\n",
       "  13.578248288505769,\n",
       "  21.697466532901302,\n",
       "  14.275977551356618,\n",
       "  45.77824554617277,\n",
       "  4.724209742055962]]"
      ]
     },
     "execution_count": 4,
     "metadata": {},
     "output_type": "execute_result"
    }
   ],
   "source": [
    "angles = angle_calculation_origin.make_angle_diff_list(\"../point_sample/heewon.json\", \"../point_sample/chansol.json\")\n",
    "angles"
   ]
  },
  {
   "cell_type": "code",
   "execution_count": 5,
   "metadata": {},
   "outputs": [
    {
     "data": {
      "text/plain": [
       "[{'sec': 1, 'forearm': 79, 'leg': 96, 'upperarm': 97, 'pelvis': 98},\n",
       " {'sec': 2, 'forearm': 79, 'leg': 96, 'upperarm': 97, 'pelvis': 97},\n",
       " {'sec': 3, 'forearm': 78, 'leg': 94, 'upperarm': 97, 'pelvis': 94},\n",
       " {'sec': 4, 'forearm': 81, 'leg': 96, 'upperarm': 94, 'pelvis': 96},\n",
       " {'sec': 5, 'forearm': 82, 'leg': 95, 'upperarm': 85, 'pelvis': 97},\n",
       " {'sec': 6, 'forearm': 74, 'leg': 96, 'upperarm': 92, 'pelvis': 97},\n",
       " {'sec': 7, 'forearm': 75, 'leg': 91, 'upperarm': 93, 'pelvis': 92},\n",
       " {'sec': 8, 'forearm': 66, 'leg': 93, 'upperarm': 95, 'pelvis': 95},\n",
       " {'sec': 9, 'forearm': 93, 'leg': 97, 'upperarm': 91, 'pelvis': 98},\n",
       " {'sec': 10, 'forearm': 87, 'leg': 98, 'upperarm': 91, 'pelvis': 99},\n",
       " {'sec': 11, 'forearm': 70, 'leg': 98, 'upperarm': 83, 'pelvis': 98},\n",
       " {'sec': 12, 'forearm': 87, 'leg': 98, 'upperarm': 93, 'pelvis': 98},\n",
       " {'sec': 13, 'forearm': 86, 'leg': 98, 'upperarm': 95, 'pelvis': 98},\n",
       " {'sec': 14, 'forearm': 67, 'leg': 96, 'upperarm': 77, 'pelvis': 98},\n",
       " {'sec': 15, 'forearm': 84, 'leg': 98, 'upperarm': 90, 'pelvis': 99},\n",
       " {'sec': 16, 'forearm': 77, 'leg': 98, 'upperarm': 90, 'pelvis': 98},\n",
       " {'sec': 17, 'forearm': 75, 'leg': 98, 'upperarm': 86, 'pelvis': 98},\n",
       " {'sec': 18, 'forearm': 85, 'leg': 97, 'upperarm': 96, 'pelvis': 98},\n",
       " {'sec': 19, 'forearm': 75, 'leg': 96, 'upperarm': 89, 'pelvis': 98},\n",
       " {'sec': 20, 'forearm': 67, 'leg': 95, 'upperarm': 70, 'pelvis': 97},\n",
       " {'sec': 21, 'forearm': 81, 'leg': 98, 'upperarm': 87, 'pelvis': 98},\n",
       " {'sec': 22, 'forearm': 82, 'leg': 98, 'upperarm': 95, 'pelvis': 98},\n",
       " {'sec': 23, 'forearm': 92, 'leg': 97, 'upperarm': 98, 'pelvis': 98},\n",
       " {'sec': 24, 'forearm': 72, 'leg': 94, 'upperarm': 95, 'pelvis': 94},\n",
       " {'sec': 25, 'forearm': 83, 'leg': 96, 'upperarm': 93, 'pelvis': 98},\n",
       " {'sec': 26, 'forearm': 87, 'leg': 96, 'upperarm': 97, 'pelvis': 97},\n",
       " {'sec': 27, 'forearm': 79, 'leg': 96, 'upperarm': 86, 'pelvis': 98},\n",
       " {'sec': 28, 'forearm': 63, 'leg': 96, 'upperarm': 73, 'pelvis': 97},\n",
       " {'sec': 29, 'forearm': 86, 'leg': 97, 'upperarm': 86, 'pelvis': 97},\n",
       " {'sec': 30, 'forearm': 84, 'leg': 92, 'upperarm': 98, 'pelvis': 96},\n",
       " {'sec': 31, 'forearm': 86, 'leg': 98, 'upperarm': 98, 'pelvis': 98},\n",
       " {'sec': 32, 'forearm': 95, 'leg': 95, 'upperarm': 99, 'pelvis': 97},\n",
       " {'sec': 33, 'forearm': 89, 'leg': 98, 'upperarm': 97, 'pelvis': 98},\n",
       " {'sec': 34, 'forearm': 72, 'leg': 97, 'upperarm': 90, 'pelvis': 98},\n",
       " {'sec': 35, 'forearm': 79, 'leg': 99, 'upperarm': 90, 'pelvis': 98}]"
      ]
     },
     "execution_count": 5,
     "metadata": {},
     "output_type": "execute_result"
    }
   ],
   "source": [
    "data = angle_calculation_origin.calculate_score(\"../point_sample/sample_1.json\", \"../point_sample/sample_2.json\")\n",
    "data"
   ]
  },
  {
   "attachments": {},
   "cell_type": "markdown",
   "metadata": {},
   "source": [
    "---"
   ]
  },
  {
   "cell_type": "code",
   "execution_count": 6,
   "metadata": {},
   "outputs": [
    {
     "data": {
      "text/plain": [
       "[{'팔': [79,\n",
       "   79,\n",
       "   78,\n",
       "   81,\n",
       "   82,\n",
       "   74,\n",
       "   75,\n",
       "   66,\n",
       "   93,\n",
       "   87,\n",
       "   70,\n",
       "   87,\n",
       "   86,\n",
       "   67,\n",
       "   84,\n",
       "   77,\n",
       "   75,\n",
       "   85,\n",
       "   75,\n",
       "   67,\n",
       "   81,\n",
       "   82,\n",
       "   92,\n",
       "   72,\n",
       "   83,\n",
       "   87,\n",
       "   79,\n",
       "   63,\n",
       "   86,\n",
       "   84,\n",
       "   86,\n",
       "   95,\n",
       "   89,\n",
       "   72,\n",
       "   79],\n",
       "  '다리': [96,\n",
       "   96,\n",
       "   94,\n",
       "   96,\n",
       "   95,\n",
       "   96,\n",
       "   91,\n",
       "   93,\n",
       "   97,\n",
       "   98,\n",
       "   98,\n",
       "   98,\n",
       "   98,\n",
       "   96,\n",
       "   98,\n",
       "   98,\n",
       "   98,\n",
       "   97,\n",
       "   96,\n",
       "   95,\n",
       "   98,\n",
       "   98,\n",
       "   97,\n",
       "   94,\n",
       "   96,\n",
       "   96,\n",
       "   96,\n",
       "   96,\n",
       "   97,\n",
       "   92,\n",
       "   98,\n",
       "   95,\n",
       "   98,\n",
       "   97,\n",
       "   99],\n",
       "  '어깨': [97,\n",
       "   97,\n",
       "   97,\n",
       "   94,\n",
       "   85,\n",
       "   92,\n",
       "   93,\n",
       "   95,\n",
       "   91,\n",
       "   91,\n",
       "   83,\n",
       "   93,\n",
       "   95,\n",
       "   77,\n",
       "   90,\n",
       "   90,\n",
       "   86,\n",
       "   96,\n",
       "   89,\n",
       "   70,\n",
       "   87,\n",
       "   95,\n",
       "   98,\n",
       "   95,\n",
       "   93,\n",
       "   97,\n",
       "   86,\n",
       "   73,\n",
       "   86,\n",
       "   98,\n",
       "   98,\n",
       "   99,\n",
       "   97,\n",
       "   90,\n",
       "   90],\n",
       "  '골반': [98,\n",
       "   97,\n",
       "   94,\n",
       "   96,\n",
       "   97,\n",
       "   97,\n",
       "   92,\n",
       "   95,\n",
       "   98,\n",
       "   99,\n",
       "   98,\n",
       "   98,\n",
       "   98,\n",
       "   98,\n",
       "   99,\n",
       "   98,\n",
       "   98,\n",
       "   98,\n",
       "   98,\n",
       "   97,\n",
       "   98,\n",
       "   98,\n",
       "   98,\n",
       "   94,\n",
       "   98,\n",
       "   97,\n",
       "   98,\n",
       "   97,\n",
       "   97,\n",
       "   96,\n",
       "   98,\n",
       "   97,\n",
       "   98,\n",
       "   98,\n",
       "   98]},\n",
       " '팔의 평균 점수: 79.91점',\n",
       " '다리의 평균 점수: 96.31점',\n",
       " '어깨의 평균 점수: 90.94점',\n",
       " '골반의 평균 점수: 97.23점',\n",
       " '골반이 가장 높은 평균 점수를 가졌습니다.',\n",
       " '팔이 가장 낮은 평균 점수를 가졌습니다.']"
      ]
     },
     "execution_count": 6,
     "metadata": {},
     "output_type": "execute_result"
    }
   ],
   "source": [
    "result = angle_calculation_origin.analyze_scores(data)\n",
    "result"
   ]
  },
  {
   "cell_type": "code",
   "execution_count": 7,
   "metadata": {},
   "outputs": [
    {
     "data": {
      "text/plain": [
       "['팔 동작의 오류가 높은 지점: 1~8초, 11초, 14~22초, 24~25초, 27~28초, 30초, 34~35초',\n",
       " '어깨 동작의 오류가 높은 지점: 5초, 11초, 14초, 20초, 28초',\n",
       " '팔의 평균 점수: 79.91점',\n",
       " '다리의 평균 점수: 96.31점',\n",
       " '어깨의 평균 점수: 90.94점',\n",
       " '골반의 평균 점수: 97.23점',\n",
       " '골반이 가장 높은 평균 점수를 가졌습니다.',\n",
       " '팔이 가장 낮은 평균 점수를 가졌습니다.']"
      ]
     },
     "execution_count": 7,
     "metadata": {},
     "output_type": "execute_result"
    }
   ],
   "source": [
    "angle_calculation_origin.analyze_detail_scores(result)"
   ]
  }
 ],
 "metadata": {
  "kernelspec": {
   "display_name": "dancify",
   "language": "python",
   "name": "python3"
  },
  "language_info": {
   "codemirror_mode": {
    "name": "ipython",
    "version": 3
   },
   "file_extension": ".py",
   "mimetype": "text/x-python",
   "name": "python",
   "nbconvert_exporter": "python",
   "pygments_lexer": "ipython3",
   "version": "3.10.10"
  }
 },
 "nbformat": 4,
 "nbformat_minor": 2
}
