{
 "cells": [
  {
   "attachments": {},
   "cell_type": "markdown",
   "metadata": {},
   "source": [
    "## 1. 준비"
   ]
  },
  {
   "cell_type": "code",
   "execution_count": 1,
   "metadata": {},
   "outputs": [],
   "source": [
    "import numpy as np\n",
    "import matplotlib.pyplot as plt\n",
    "import json\n",
    "from angle_function import *"
   ]
  },
  {
   "cell_type": "code",
   "execution_count": 8,
   "metadata": {},
   "outputs": [],
   "source": [
    "with open(\"./point_sample/heewon.json\", 'r') as f:\n",
    "    json_data = json.load(f)"
   ]
  },
  {
   "cell_type": "code",
   "execution_count": 3,
   "metadata": {},
   "outputs": [
    {
     "data": {
      "text/plain": [
       "[[427.4884955087254, 182.10784436156305, 'left_shoulder'],\n",
       " [354.00804615088583, 189.88467244972514, 'right_shoulder'],\n",
       " [476.7904280494792, 183.72126482132413, 'left_elbow'],\n",
       " [310.6017021259135, 207.26402713522435, 'right_elbow'],\n",
       " [485.53463359036107, 225.42944193520182, 'left_wrist'],\n",
       " [309.4645691170168, 169.6284822040477, 'right_wrist'],\n",
       " [412.6742357738002, 290.6946279163935, 'left_hip'],\n",
       " [366.9840610907826, 290.120887133862, 'right_hip'],\n",
       " [438.3481010713819, 373.063702729207, 'left_knee'],\n",
       " [346.6532861423037, 374.41220400969996, 'right_knee'],\n",
       " [464.534584566135, 445.67504014274107, 'left_ankle'],\n",
       " [327.39942563710133, 444.54447352585976, 'right_ankle']]"
      ]
     },
     "execution_count": 3,
     "metadata": {},
     "output_type": "execute_result"
    }
   ],
   "source": [
    "kps = get_keypoint_information(json_data, 5, 16)\n",
    "kps"
   ]
  },
  {
   "attachments": {},
   "cell_type": "markdown",
   "metadata": {},
   "source": [
    "## 2. 관절 설정"
   ]
  },
  {
   "attachments": {},
   "cell_type": "markdown",
   "metadata": {},
   "source": [
    "### 골격 변수 10개\n",
    "|변수명|부위|연결|\n",
    "|:--:|:--:|:--:|\n",
    "|`left_upperarm`|왼쪽 상완|`left_shoulder` - `left_elbow`|\n",
    "|`right_upperarm`|오른쪽 상완|`right_shoulder` - `right_elbow`|\n",
    "|`left_forearm`|왼쪽 전완|`left_elbow` - `left_wrist`|\n",
    "|`right_forearm`|오른쪽 전완|`right_elbow` - `right_wrist`|\n",
    "|`left_waist`|왼쪽 허리|`left_shoulder` - `left_hip`|\n",
    "|`right_waist`|오른쪽 허리|`right_shoulder` - `right_hip`|\n",
    "|`left_thigh`|왼쪽 허벅지|`left_hip` - `left_knee`|\n",
    "|`right_thigh`|오른쪽 허벅지|`right_hip` - `right_knee`|\n",
    "|`left_calf`|왼쪽 종아리|`left_knee` - `left_ankle`|\n",
    "|`right_calf`|오른쪽 종아리|`right_knee` - `right_ankle`|"
   ]
  },
  {
   "cell_type": "code",
   "execution_count": 4,
   "metadata": {},
   "outputs": [],
   "source": [
    "left_upperarm = np.arctan2(kps[0][0] - kps[2][0], kps[0][1] - kps[3][1])\n",
    "right_upperarm = np.arctan2(kps[1][0] - kps[3][0], kps[1][1] - kps[3][1])\n",
    "left_forearm = np.arctan2(kps[2][0] - kps[4][0], kps[2][1] - kps[4][1])\n",
    "right_forearm = np.arctan2(kps[3][0] - kps[5][0], kps[3][1] - kps[5][1])\n",
    "left_waist = np.arctan2(kps[0][0] - kps[6][0], kps[0][1] - kps[6][1])\n",
    "right_waist = np.arctan2(kps[1][0] - kps[7][0], kps[1][1] - kps[7][1])\n",
    "left_thigh = np.arctan2(kps[6][0] - kps[8][0], kps[6][1] - kps[8][1])\n",
    "right_thigh = np.arctan2(kps[7][0] - kps[9][0], kps[7][1] - kps[9][1])\n",
    "left_calf = np.arctan2(kps[8][0] - kps[10][0], kps[8][1] - kps[10][1])\n",
    "right_calf = np.arctan2(kps[9][0] - kps[11][0], kps[9][1] - kps[11][1])"
   ]
  },
  {
   "attachments": {},
   "cell_type": "markdown",
   "metadata": {},
   "source": [
    "### 각도 변수 8개\n",
    "|변수명|관절명|연결골격|골격변수|\n",
    "|:--:|:--:|:--:|:--:|\n",
    "|`left_pelvic_joint`|왼쪽 골반 관절|왼쪽 허리 - 왼쪽 허벅지|`left_waist` - `left_thigh`|\n",
    "|`right_pelvic_joint`|오른쪽 골반 관절|오른쪽 허리 - 오른쪽 허벅지|`right_waist` - `right_thigh`|\n",
    "|`left_shoulder_joint`|왼쪽 어깨 관절|왼쪽 상완 - 왼쪽 허리|`left_upperarm` - `left_waist`|\n",
    "|`right_shoulder_joint`|오른쪽 어깨 관절|오른쪽 상완 - 오른쪽 허리|`right_upperarm` - `right_waist`|\n",
    "|`left_elbow_joint`|왼쪽 팔꿈치 관절|외쪽 상완 - 왼쪽 전완|`left_upperarm` - `left_forearm`|\n",
    "|`right_elbow_joint`|오른쪽 팔꿈치 관절|오른쪽 상완 - 오른쪽 전완|`right_upperarm` - `right_forearm`|\n",
    "|`left_knee_joint`|왼쪽 무릎 관절|왼쪽 허벅지 - 왼쪽 종아리|`left_thigh` - `left_calf`|\n",
    "|`right_knee_joint`|오른쪽 무릎 관절|오른쪽 허벅지 - 오른쪽 종아리|`right_thigh` - `right_calf`|"
   ]
  },
  {
   "cell_type": "code",
   "execution_count": 5,
   "metadata": {},
   "outputs": [],
   "source": [
    "# radian으로 표기\n",
    "left_pelvic_joint = abs(left_waist - left_thigh)\n",
    "right_pelvic_joint = abs(left_waist - right_thigh)\n",
    "left_shoulder_joint = abs(left_upperarm - left_waist)\n",
    "right_shoulder_joint = abs(right_upperarm - right_waist)\n",
    "left_elbow_joint = abs(left_upperarm - left_forearm)\n",
    "right_elbow_joint = abs(right_upperarm - right_forearm)\n",
    "left_knee_joint = abs(left_thigh - left_calf)\n",
    "right_knee_joint = abs(right_thigh - right_calf)"
   ]
  },
  {
   "cell_type": "code",
   "execution_count": 6,
   "metadata": {},
   "outputs": [
    {
     "name": "stdout",
     "output_type": "stream",
     "text": [
      "왼쪽 골반 관절 각도: 5.845445056908348\n",
      "오른쪽 골반 관절 각도: 0.10108531727167236\n",
      "----------------------------------------------------------------------------------------------------\n",
      "왼쪽 어깨 관절 각도: 5.048610120677951\n",
      "오른쪽 어깨 관절 각도: 4.964490913399066\n",
      "----------------------------------------------------------------------------------------------------\n",
      "왼쪽 팔꿈치 관절 각도: 0.8923255132722088\n",
      "오른쪽 팔꿈치 관절 각도: 1.9214315067677292\n",
      "----------------------------------------------------------------------------------------------------\n",
      "왼쪽 무릎 관절 각도: 0.04397168284809716\n",
      "오른쪽 무릎 관절 각도: 0.03125909387452275\n"
     ]
    }
   ],
   "source": [
    "print(f\"왼쪽 골반 관절 각도: {left_pelvic_joint}\")\n",
    "print(f\"오른쪽 골반 관절 각도: {right_pelvic_joint}\")\n",
    "print('-' * 100)\n",
    "print(f\"왼쪽 어깨 관절 각도: {left_shoulder_joint}\")\n",
    "print(f\"오른쪽 어깨 관절 각도: {right_shoulder_joint}\")\n",
    "print('-' * 100)\n",
    "print(f\"왼쪽 팔꿈치 관절 각도: {left_elbow_joint}\")\n",
    "print(f\"오른쪽 팔꿈치 관절 각도: {right_elbow_joint}\")\n",
    "print('-' * 100)\n",
    "print(f\"왼쪽 무릎 관절 각도: {left_knee_joint}\")\n",
    "print(f\"오른쪽 무릎 관절 각도: {right_knee_joint}\")"
   ]
  },
  {
   "cell_type": "code",
   "execution_count": 7,
   "metadata": {},
   "outputs": [],
   "source": [
    "# degree으로 표기\n",
    "left_pelvic_joint = abs(left_waist - left_thigh) * 180 / np.pi\n",
    "right_pelvic_joint = abs(left_waist - right_thigh) * 180 / np.pi\n",
    "left_shoulder_joint = abs(left_upperarm - left_waist) * 180 / np.pi\n",
    "right_shoulder_joint = abs(right_upperarm - right_waist) * 180 / np.pi\n",
    "left_elbow_joint = abs(left_upperarm - left_forearm) * 180 / np.pi\n",
    "right_elbow_joint = abs(right_upperarm - right_forearm) * 180 / np.pi\n",
    "left_knee_joint = abs(left_thigh - left_calf) * 180 / np.pi\n",
    "right_knee_joint = abs(right_thigh - right_calf) * 180 / np.pi"
   ]
  },
  {
   "cell_type": "code",
   "execution_count": 17,
   "metadata": {},
   "outputs": [
    {
     "name": "stdout",
     "output_type": "stream",
     "text": [
      "왼쪽 골반 관절 각도: 202.77348828213272\n",
      "오른쪽 골반 관절 각도: 131.4094304944068\n",
      "----------------------------------------------------------------------------------------------------\n",
      "왼쪽 어깨 관절 각도: 292.45735847341496\n",
      "오른쪽 어깨 관절 각도: 39.09093771974502\n",
      "----------------------------------------------------------------------------------------------------\n",
      "왼쪽 팔꿈치 관절 각도: 198.64007738554446\n",
      "오른쪽 팔꿈치 관절 각도: 183.56543093120783\n",
      "----------------------------------------------------------------------------------------------------\n",
      "왼쪽 무릎 관절 각도: 151.4038893703244\n",
      "오른쪽 무릎 관절 각도: 176.77050372913408\n"
     ]
    }
   ],
   "source": [
    "print(f\"왼쪽 골반 관절 각도: {left_pelvic_joint}\")\n",
    "print(f\"오른쪽 골반 관절 각도: {right_pelvic_joint}\")\n",
    "print('-' * 100)\n",
    "print(f\"왼쪽 어깨 관절 각도: {left_shoulder_joint}\")\n",
    "print(f\"오른쪽 어깨 관절 각도: {right_shoulder_joint}\")\n",
    "print('-' * 100)\n",
    "print(f\"왼쪽 팔꿈치 관절 각도: {left_elbow_joint}\")\n",
    "print(f\"오른쪽 팔꿈치 관절 각도: {right_elbow_joint}\")\n",
    "print('-' * 100)\n",
    "print(f\"왼쪽 무릎 관절 각도: {left_knee_joint}\")\n",
    "print(f\"오른쪽 무릎 관절 각도: {right_knee_joint}\")"
   ]
  }
 ],
 "metadata": {
  "kernelspec": {
   "display_name": "DataAnalysis",
   "language": "python",
   "name": "data"
  },
  "language_info": {
   "codemirror_mode": {
    "name": "ipython",
    "version": 3
   },
   "file_extension": ".py",
   "mimetype": "text/x-python",
   "name": "python",
   "nbconvert_exporter": "python",
   "pygments_lexer": "ipython3",
   "version": "3.9.7"
  },
  "orig_nbformat": 4
 },
 "nbformat": 4,
 "nbformat_minor": 2
}
