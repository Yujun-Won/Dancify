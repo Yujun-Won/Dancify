{
 "cells": [
  {
   "attachments": {},
   "cell_type": "markdown",
   "metadata": {},
   "source": [
    "## 1. 준비"
   ]
  },
  {
   "cell_type": "code",
   "execution_count": 1,
   "metadata": {},
   "outputs": [],
   "source": [
    "import numpy as np\n",
    "import matplotlib.pyplot as plt\n",
    "import json\n",
    "import sys\n",
    "\n",
    "# 코드를 돌려보시려면 아래에 complete의 경로를 써야 합니다.\n",
    "sys.path.append('/Users/yujunwon/Project/dancify/ai/yujun/complete/')\n",
    "\n",
    "import angle_calc\n",
    "\n",
    "%config InlineBackend.figure_format = 'retina'"
   ]
  },
  {
   "cell_type": "code",
   "execution_count": 2,
   "metadata": {},
   "outputs": [
    {
     "name": "stdout",
     "output_type": "stream",
     "text": [
      "CPU times: user 30.8 ms, sys: 1.79 ms, total: 32.6 ms\n",
      "Wall time: 10.5 ms\n"
     ]
    }
   ],
   "source": [
    "%%time\n",
    "\n",
    "with open(\"../point_sample/test_data.json\", 'r') as f:\n",
    "    json_data = json.load(f)"
   ]
  },
  {
   "cell_type": "code",
   "execution_count": 3,
   "metadata": {},
   "outputs": [
    {
     "name": "stdout",
     "output_type": "stream",
     "text": [
      "CPU times: user 5.32 ms, sys: 168 µs, total: 5.49 ms\n",
      "Wall time: 1.83 ms\n"
     ]
    }
   ],
   "source": [
    "%%time\n",
    "keypoints = angle_calc.get_keypoints(json_data)"
   ]
  },
  {
   "attachments": {},
   "cell_type": "markdown",
   "metadata": {},
   "source": [
    "### 2.1 골격 변수 10개\n",
    "|변수명|부위|연결|\n",
    "|:--:|:--:|:--:|\n",
    "|`left_upperarm`|왼쪽 상완|`left_shoulder` - `left_elbow`|\n",
    "|`right_upperarm`|오른쪽 상완|`right_shoulder` - `right_elbow`|\n",
    "|`left_forearm`|왼쪽 전완|`left_elbow` - `left_wrist`|\n",
    "|`right_forearm`|오른쪽 전완|`right_elbow` - `right_wrist`|\n",
    "|`left_waist`|왼쪽 허리|`left_shoulder` - `left_hip`|\n",
    "|`right_waist`|오른쪽 허리|`right_shoulder` - `right_hip`|\n",
    "|`left_thigh`|왼쪽 허벅지|`left_hip` - `left_knee`|\n",
    "|`right_thigh`|오른쪽 허벅지|`right_hip` - `right_knee`|\n",
    "|`left_calf`|왼쪽 종아리|`left_knee` - `left_ankle`|\n",
    "|`right_calf`|오른쪽 종아리|`right_knee` - `right_ankle`|"
   ]
  },
  {
   "cell_type": "code",
   "execution_count": 9,
   "metadata": {},
   "outputs": [
    {
     "data": {
      "text/plain": [
       "602"
      ]
     },
     "execution_count": 9,
     "metadata": {},
     "output_type": "execute_result"
    }
   ],
   "source": [
    "len(angle_calc.calculate_skeleton_angles(keypoints))"
   ]
  },
  {
   "attachments": {},
   "cell_type": "markdown",
   "metadata": {},
   "source": [
    "### 2.2 각도 변수 8개\n",
    "|변수명|관절명|연결골격|골격변수|\n",
    "|:--:|:--:|:--:|:--:|\n",
    "|`left_pelvic_joint`|왼쪽 골반 관절|왼쪽 허리 - 왼쪽 허벅지|`left_waist` - `left_thigh`|\n",
    "|`right_pelvic_joint`|오른쪽 골반 관절|오른쪽 허리 - 오른쪽 허벅지|`right_waist` - `right_thigh`|\n",
    "|`left_shoulder_joint`|왼쪽 어깨 관절|왼쪽 상완 - 왼쪽 허리|`left_upperarm` - `left_waist`|\n",
    "|`right_shoulder_joint`|오른쪽 어깨 관절|오른쪽 상완 - 오른쪽 허리|`right_upperarm` - `right_waist`|\n",
    "|`left_elbow_joint`|왼쪽 팔꿈치 관절|외쪽 상완 - 왼쪽 전완|`left_upperarm` - `left_forearm`|\n",
    "|`right_elbow_joint`|오른쪽 팔꿈치 관절|오른쪽 상완 - 오른쪽 전완|`right_upperarm` - `right_forearm`|\n",
    "|`left_knee_joint`|왼쪽 무릎 관절|왼쪽 허벅지 - 왼쪽 종아리|`left_thigh` - `left_calf`|\n",
    "|`right_knee_joint`|오른쪽 무릎 관절|오른쪽 허벅지 - 오른쪽 종아리|`right_thigh` - `right_calf`|"
   ]
  },
  {
   "cell_type": "code",
   "execution_count": 7,
   "metadata": {},
   "outputs": [
    {
     "data": {
      "text/plain": [
       "602"
      ]
     },
     "execution_count": 7,
     "metadata": {},
     "output_type": "execute_result"
    }
   ],
   "source": [
    "len(angle_calc.calculate_joint_angles(keypoints))"
   ]
  }
 ],
 "metadata": {
  "kernelspec": {
   "display_name": "dancify",
   "language": "python",
   "name": "python3"
  },
  "language_info": {
   "codemirror_mode": {
    "name": "ipython",
    "version": 3
   },
   "file_extension": ".py",
   "mimetype": "text/x-python",
   "name": "python",
   "nbconvert_exporter": "python",
   "pygments_lexer": "ipython3",
   "version": "3.10.10"
  },
  "orig_nbformat": 4
 },
 "nbformat": 4,
 "nbformat_minor": 2
}
