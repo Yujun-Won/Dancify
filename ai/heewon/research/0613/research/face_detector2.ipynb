{
  "cells": [
    {
      "attachments": {},
      "cell_type": "markdown",
      "metadata": {
        "id": "L_cQX8dWu4Dv"
      },
      "source": [
        "# Face Detection with MediaPipe Tasks"
      ]
    },
    {
      "cell_type": "code",
      "execution_count": 1,
      "metadata": {
        "id": "gxbHBsF-8Y_l"
      },
      "outputs": [],
      "source": [
        "!pip install -q mediapipe==0.10.0\n",
        "!pip install moviepy\n",
        "#!pip install opencv-python"
      ]
    },
    {
      "cell_type": "code",
      "execution_count": 1,
      "metadata": {},
      "outputs": [],
      "source": [
        "import cv2\n",
        "import mediapipe as mp\n",
        "from drawing_utils import *\n",
        "\n",
        "from moviepy.editor import *\n",
        "import moviepy.editor as mvp\n",
        "\n",
        "def face_mosaic(videopath, savepath):\n",
        "    '''\n",
        "    - videopath : 강사가 업로드 한 영상이 담긴 경로\n",
        "    - savepath : 모자이크 처리된 영상을 저장할 경로\n",
        "    - videopath에 무음 모자이크 처리 영상(mosaicpath)과 오디오 추출 음원(audiopath)가 함께 저장됩니다.\n",
        "    - ex) videopath = 'yourpath/karina.mp4'\n",
        "    -     mosaicpath = 'yourpath/karina_mosaic.mp4'\n",
        "    -     audiopath = 'yourpath/karina_mosaic.mp3'\n",
        "    - savepath : '/result/karina.mp4'\n",
        "    '''\n",
        "    \n",
        "    mosaicpath = videopath[:-4]+'_mosaic.mp4'\n",
        "    audiopath = mosaicpath[:-4] + '.mp3'\n",
        "    \n",
        "    # 동영상 파일 열기\n",
        "    cap = cv2.VideoCapture(videopath)\n",
        "\n",
        "    #잘 열렸는지 확인\n",
        "    if cap.isOpened() == False:\n",
        "        print ('Can\\'t open the video (%d)' % (videopath))\n",
        "        exit()\n",
        "\n",
        "    #재생할 파일의 넓이 얻기\n",
        "    width = cap.get(cv2.CAP_PROP_FRAME_WIDTH)\n",
        "    #재생할 파일의 높이 얻기\n",
        "    height = cap.get(cv2.CAP_PROP_FRAME_HEIGHT)\n",
        "    #재생할 파일의 프레임 레이트 얻기\n",
        "    fps = cap.get(cv2.CAP_PROP_FPS)\n",
        "\n",
        "    # print('width {0}, height {1}, fps {2}'.format(width, height, fps))\n",
        "\n",
        "    fourcc = cv2.VideoWriter_fourcc(*'mp4v')\n",
        "\n",
        "    #파일 stream 생성\n",
        "    out = cv2.VideoWriter(mosaicpath, fourcc, fps, (int(width), int(height)))\n",
        "    \n",
        "    mp_face_detection = mp.solutions.face_detection\n",
        "\n",
        "    face_detection = mp_face_detection.FaceDetection(model_selection=1, min_detection_confidence=0.4)\n",
        "    \n",
        "    #이전 detexction값 저장해두는 변수\n",
        "    flag = 0\n",
        "\n",
        "    while True:\n",
        "        ret, image = cap.read()\n",
        "        \n",
        "        if image is None:\n",
        "            break;\n",
        "\n",
        "        # 작업 전에 BGR 이미지를 RGB로 변환합니다.\n",
        "        results = face_detection.process(cv2.cvtColor(image, cv2.COLOR_BGR2RGB))\n",
        "\n",
        "        if results.detections:\n",
        "            flag = results.detections\n",
        "            annotated_image = image.copy()\n",
        "            frame = draw_detection(annotated_image, results.detections[0])\n",
        "            out.write(frame)\n",
        "\n",
        "        # detect 못 했으면 이전의 값 그대로 사용\n",
        "        elif not results.detections and flag!=0:\n",
        "            annotated_image = image.copy()\n",
        "            frame = draw_detection(annotated_image, flag[0])\n",
        "            out.write(frame)\n",
        "\n",
        "        else:\n",
        "            out.write(image)\n",
        "        \n",
        "\n",
        "    #재생 파일 종료\n",
        "    cap.release()\n",
        "    #저장 파일 종료\n",
        "    out.release()\n",
        "    \n",
        "    #원본 비디오에서 오디오를 추출합니다.\n",
        "    mvp.ffmpeg_tools.ffmpeg_extract_audio(videopath, audiopath)\n",
        "    \n",
        "    #비디오와 오디오를 합칩니다. (모자이크비디오, 오디오, 결과저장경로)\n",
        "    mvp.ffmpeg_tools.ffmpeg_merge_video_audio(mosaicpath, audiopath, \\\n",
        "        savepath, vcodec='copy', acodec='copy', ffmpeg_output=False, logger='bar')"
      ]
    },
    {
      "cell_type": "code",
      "execution_count": 2,
      "metadata": {},
      "outputs": [
        {
          "name": "stdout",
          "output_type": "stream",
          "text": [
            "Moviepy - Running:\n",
            ">>> \"+ \" \".join(cmd)\n",
            "Moviepy - Command successful\n",
            "Moviepy - Running:\n",
            ">>> \"+ \" \".join(cmd)\n",
            "Moviepy - Command successful\n"
          ]
        }
      ],
      "source": [
        "videopath = './test_data/spicy_karina.mp4'\n",
        "savepath = './karina_result.mp4'\n",
        "face_mosaic(videopath, savepath)"
      ]
    },
    {
      "cell_type": "code",
      "execution_count": null,
      "metadata": {},
      "outputs": [],
      "source": []
    },
    {
      "cell_type": "code",
      "execution_count": null,
      "metadata": {},
      "outputs": [],
      "source": []
    },
    {
      "cell_type": "code",
      "execution_count": null,
      "metadata": {},
      "outputs": [],
      "source": []
    },
    {
      "cell_type": "code",
      "execution_count": null,
      "metadata": {},
      "outputs": [],
      "source": []
    },
    {
      "cell_type": "code",
      "execution_count": 1,
      "metadata": {},
      "outputs": [
        {
          "name": "stdout",
          "output_type": "stream",
          "text": [
            "width 720.0, height 1280.0, fps 30.0\n"
          ]
        }
      ],
      "source": [
        "import cv2\n",
        "import mediapipe as mp\n",
        "from drawing_utils import *\n",
        "\n",
        "#재생할 파일 \n",
        "videopath = '../../0612/spicy_karina.mp4'\n",
        "\n",
        "# 동영상 파일 열기\n",
        "cap = cv2.VideoCapture(videopath)\n",
        "\n",
        "#잘 열렸는지 확인\n",
        "if cap.isOpened() == False:\n",
        "    print ('Can\\'t open the video (%d)' % (videopath))\n",
        "    exit()\n",
        "\n",
        "#재생할 파일의 넓이 얻기\n",
        "width = cap.get(cv2.CAP_PROP_FRAME_WIDTH)\n",
        "#재생할 파일의 높이 얻기\n",
        "height = cap.get(cv2.CAP_PROP_FRAME_HEIGHT)\n",
        "#재생할 파일의 프레임 레이트 얻기\n",
        "fps = cap.get(cv2.CAP_PROP_FPS)\n",
        "\n",
        "print('width {0}, height {1}, fps {2}'.format(width, height, fps))\n",
        "\n",
        "fourcc = cv2.VideoWriter_fourcc(*'mp4v')\n",
        "filename = './spicy_karina_mosaic.mp4'\n",
        "\n",
        "#파일 stream 생성\n",
        "out = cv2.VideoWriter(filename, fourcc, fps, (int(width), int(height)))"
      ]
    },
    {
      "cell_type": "code",
      "execution_count": 2,
      "metadata": {},
      "outputs": [],
      "source": [
        "mp_face_detection = mp.solutions.face_detection\n",
        "mp_drawing = mp.solutions.drawing_utils\n",
        "\n",
        "face_detection = mp_face_detection.FaceDetection(model_selection=1, min_detection_confidence=0.2)\n",
        "\n",
        "while True:\n",
        "    ret, image = cap.read()\n",
        "    \n",
        "    if image is None:\n",
        "        break;\n",
        "\n",
        "    # 작업 전에 BGR 이미지를 RGB로 변환합니다.\n",
        "    results = face_detection.process(cv2.cvtColor(image, cv2.COLOR_BGR2RGB))\n",
        "\n",
        "    if not results.detections:\n",
        "      out.write(image)\n",
        "      continue\n",
        "    \n",
        "    annotated_image = image.copy()\n",
        "    \n",
        "    frame = draw_detection(annotated_image, results.detections[0])\n",
        "    \n",
        "    out.write(frame)\n",
        "    \n",
        "    if cv2.waitKey(1) == 27:\n",
        "        break;\n",
        "\n",
        "#재생 파일 종료\n",
        "cap.release()\n",
        "#저장 파일 종료\n",
        "out.release()"
      ]
    },
    {
      "cell_type": "code",
      "execution_count": 3,
      "metadata": {},
      "outputs": [
        {
          "name": "stdout",
          "output_type": "stream",
          "text": [
            "Moviepy - Running:\n",
            ">>> \"+ \" \".join(cmd)\n",
            "Moviepy - Command successful\n"
          ]
        }
      ],
      "source": [
        "from moviepy.editor import *\n",
        "import moviepy.editor as mvp\n",
        "audioname = './spicy_karina.mp3'\n",
        "mvp.ffmpeg_tools.ffmpeg_extract_audio(videopath, audioname)"
      ]
    },
    {
      "cell_type": "code",
      "execution_count": 4,
      "metadata": {},
      "outputs": [
        {
          "name": "stdout",
          "output_type": "stream",
          "text": [
            "Moviepy - Running:\n",
            ">>> \"+ \" \".join(cmd)\n",
            "Moviepy - Command successful\n"
          ]
        }
      ],
      "source": [
        "resultpath = './spicy_karina_result.mp4'\n",
        "mvp.ffmpeg_tools.ffmpeg_merge_video_audio(filename, audioname, resultpath, vcodec='copy', acodec='copy', ffmpeg_output=False, logger='bar')"
      ]
    },
    {
      "cell_type": "code",
      "execution_count": null,
      "metadata": {},
      "outputs": [],
      "source": []
    }
  ],
  "metadata": {
    "accelerator": "GPU",
    "colab": {
      "gpuType": "T4",
      "provenance": []
    },
    "gpuClass": "standard",
    "kernelspec": {
      "display_name": "Python 3 (ipykernel)",
      "language": "python",
      "name": "python3"
    },
    "language_info": {
      "codemirror_mode": {
        "name": "ipython",
        "version": 3
      },
      "file_extension": ".py",
      "mimetype": "text/x-python",
      "name": "python",
      "nbconvert_exporter": "python",
      "pygments_lexer": "ipython3",
      "version": "3.10.10"
    }
  },
  "nbformat": 4,
  "nbformat_minor": 0
}
