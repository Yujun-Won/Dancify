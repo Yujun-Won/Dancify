{
 "cells": [
  {
   "cell_type": "code",
   "execution_count": 1,
   "metadata": {},
   "outputs": [],
   "source": [
    "from moviepy.editor import VideoFileClip, AudioFileClip"
   ]
  },
  {
   "attachments": {},
   "cell_type": "markdown",
   "metadata": {},
   "source": [
    "### 1. 음성 분리"
   ]
  },
  {
   "cell_type": "code",
   "execution_count": 2,
   "metadata": {},
   "outputs": [],
   "source": [
    "def extract_audio(video_file, audio_file):\n",
    "    try:\n",
    "        video = VideoFileClip(video_file)\n",
    "        audio = video.audio\n",
    "        audio.write_audiofile(audio_file)\n",
    "        return True  # 성공적으로 음성을 추출했음을 나타내기 위해 True 반환\n",
    "    except Exception as e:\n",
    "        print(f\"음성 추출 중 오류 발생: {str(e)}\")\n",
    "        return False  # 예외가 발생했음을 나타내기 위해 False 반환"
   ]
  },
  {
   "cell_type": "code",
   "execution_count": 3,
   "metadata": {},
   "outputs": [
    {
     "name": "stdout",
     "output_type": "stream",
     "text": [
      "MoviePy - Writing audio in ../audios/impurities.mp3\n"
     ]
    },
    {
     "name": "stderr",
     "output_type": "stream",
     "text": [
      "                                                                      "
     ]
    },
    {
     "name": "stdout",
     "output_type": "stream",
     "text": [
      "MoviePy - Done.\n"
     ]
    },
    {
     "name": "stderr",
     "output_type": "stream",
     "text": [
      "\r"
     ]
    },
    {
     "data": {
      "text/plain": [
       "True"
      ]
     },
     "execution_count": 3,
     "metadata": {},
     "output_type": "execute_result"
    }
   ],
   "source": [
    "# extract_audio(음성 추출할 영상 경로, 음성 저장할 경로)\n",
    "extract_audio(\"../videos/impurities.mp4\", \"../audios/impurities.mp3\")"
   ]
  },
  {
   "attachments": {},
   "cell_type": "markdown",
   "metadata": {},
   "source": [
    "### 2. 음성 합성"
   ]
  },
  {
   "cell_type": "code",
   "execution_count": 4,
   "metadata": {},
   "outputs": [],
   "source": [
    "def merge_video_audio(video_file, audio_file, output_file):\n",
    "    try:\n",
    "        video = VideoFileClip(video_file)\n",
    "        audio = AudioFileClip(audio_file)\n",
    "\n",
    "        # 영상의 길이에 맞게 음성을 자름\n",
    "        audio = audio.subclip(0, video.duration)\n",
    "\n",
    "        video = video.set_audio(audio)\n",
    "        video.write_videofile(output_file, codec='libx264')\n",
    "        \n",
    "        return True  # 합성이 성공적으로 완료됨을 나타내기 위해 True 반환\n",
    "    except Exception as e:\n",
    "        print(f\"음성 합성 중 오류 발생: {str(e)}\")\n",
    "        return False  # 예외가 발생했음을 나타내기 위해 False 반환\n"
   ]
  },
  {
   "cell_type": "code",
   "execution_count": 5,
   "metadata": {},
   "outputs": [
    {
     "name": "stdout",
     "output_type": "stream",
     "text": [
      "Moviepy - Building video ../result/attention.mp4.\n",
      "MoviePy - Writing audio in attentionTEMP_MPY_wvf_snd.mp3\n"
     ]
    },
    {
     "name": "stderr",
     "output_type": "stream",
     "text": [
      "                                                                      \r"
     ]
    },
    {
     "name": "stdout",
     "output_type": "stream",
     "text": [
      "MoviePy - Done.\n",
      "Moviepy - Writing video ../result/attention.mp4\n",
      "\n"
     ]
    },
    {
     "name": "stderr",
     "output_type": "stream",
     "text": [
      "                                                                 \r"
     ]
    },
    {
     "name": "stdout",
     "output_type": "stream",
     "text": [
      "Moviepy - Done !\n",
      "Moviepy - video ready ../result/attention.mp4\n"
     ]
    },
    {
     "data": {
      "text/plain": [
       "True"
      ]
     },
     "execution_count": 5,
     "metadata": {},
     "output_type": "execute_result"
    }
   ],
   "source": [
    "keyword = \"attention\"\n",
    "\n",
    "# merge_video_audio(음성 합성할 영상 경로, 합성할 음성 경로, 결과 경로)\n",
    "merge_video_audio(f\"../temp/{keyword}.mp4\", f\"../audios/{keyword}.mp3\", f\"../result/{keyword}.mp4\")"
   ]
  }
 ],
 "metadata": {
  "kernelspec": {
   "display_name": "dancify",
   "language": "python",
   "name": "python3"
  },
  "language_info": {
   "codemirror_mode": {
    "name": "ipython",
    "version": 3
   },
   "file_extension": ".py",
   "mimetype": "text/x-python",
   "name": "python",
   "nbconvert_exporter": "python",
   "pygments_lexer": "ipython3",
   "version": "3.10.10"
  },
  "orig_nbformat": 4
 },
 "nbformat": 4,
 "nbformat_minor": 2
}
