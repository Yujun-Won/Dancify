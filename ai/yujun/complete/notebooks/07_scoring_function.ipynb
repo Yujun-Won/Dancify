{
 "cells": [
  {
   "cell_type": "code",
   "execution_count": 1,
   "metadata": {},
   "outputs": [],
   "source": [
    "import sys\n",
    "sys.path.append('/Users/yujunwon/Project/dancify/ai/yujun/complete')\n",
    "\n",
    "import angle_calculation"
   ]
  },
  {
   "attachments": {},
   "cell_type": "markdown",
   "metadata": {},
   "source": [
    "---"
   ]
  },
  {
   "cell_type": "code",
   "execution_count": 2,
   "metadata": {},
   "outputs": [],
   "source": [
    "data = angle_calculation.calculate_score(\"../point_sample/sample_1.json\", \"../point_sample/sample_2.json\")"
   ]
  },
  {
   "attachments": {},
   "cell_type": "markdown",
   "metadata": {},
   "source": [
    "---"
   ]
  },
  {
   "cell_type": "code",
   "execution_count": 3,
   "metadata": {},
   "outputs": [],
   "source": [
    "result = angle_calculation.analyze_scores(data)"
   ]
  },
  {
   "cell_type": "code",
   "execution_count": 4,
   "metadata": {},
   "outputs": [
    {
     "data": {
      "text/plain": [
       "['팔 동작의 오류가 높은 지점: 1~8초, 11초, 14~22초, 24~25초, 27~28초, 30초, 34~35초',\n",
       " '어깨 동작의 오류가 높은 지점: 5초, 11초, 14초, 20초, 28초',\n",
       " '팔의 평균 점수: 79.91점',\n",
       " '다리의 평균 점수: 96.31점',\n",
       " '어깨의 평균 점수: 90.94점',\n",
       " '골반의 평균 점수: 97.23점',\n",
       " '골반이 가장 높은 평균 점수를 가졌습니다.',\n",
       " '팔이 가장 낮은 평균 점수를 가졌습니다.']"
      ]
     },
     "execution_count": 4,
     "metadata": {},
     "output_type": "execute_result"
    }
   ],
   "source": [
    "angle_calculation.analyze_low_scores(result)"
   ]
  }
 ],
 "metadata": {
  "kernelspec": {
   "display_name": "dancify",
   "language": "python",
   "name": "python3"
  },
  "language_info": {
   "codemirror_mode": {
    "name": "ipython",
    "version": 3
   },
   "file_extension": ".py",
   "mimetype": "text/x-python",
   "name": "python",
   "nbconvert_exporter": "python",
   "pygments_lexer": "ipython3",
   "version": "3.10.10"
  }
 },
 "nbformat": 4,
 "nbformat_minor": 2
}
